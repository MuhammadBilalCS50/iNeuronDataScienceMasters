{
 "cells": [
  {
   "cell_type": "markdown",
   "id": "d6c157f3-fd8b-474c-be10-6b70c45c5798",
   "metadata": {},
   "source": [
    "### Question No. 1\n",
    "What is the primary goal of Object-Oriented Programming (OOP)?"
   ]
  },
  {
   "cell_type": "markdown",
   "id": "49a695dd-7a5f-46b1-8262-61b635ccb825",
   "metadata": {},
   "source": [
    "### Answer No. 1\n",
    "The purpose of OOP in any programming language is to allow users to create their own object type with all the required methods/functions exclusive for that object with the ability to call them anytime, anywhere in program without needing to define those again and again and without worrying about the error handling. Both the error handling and functions are defined once for that object in a blueprint of that object known as class in the world of programming languages. Thus, the goals of OOP are to ensure error free code execution and promote reusability."
   ]
  },
  {
   "cell_type": "markdown",
   "id": "1824460a-903b-4d38-a7c8-bba4df2b008e",
   "metadata": {},
   "source": [
    "### Question No. 2\n",
    "What is an object in Python?"
   ]
  },
  {
   "cell_type": "markdown",
   "id": "937c4c52-8076-4667-a251-92690d3ee948",
   "metadata": {},
   "source": [
    "### Answer No. 2\n",
    "Objects are variables that contain data and functions that can be used to manipulate the data. The object's data can vary in type (string, integer, etc.) depending on how it's been defined. An object is like a mini-program inside python, with its own set of rules and behaviors."
   ]
  },
  {
   "cell_type": "markdown",
   "id": "47aa0991-2644-47a0-83d6-7b03a3934aa9",
   "metadata": {},
   "source": [
    "### Question No. 3\n",
    "What is a class in Python?"
   ]
  },
  {
   "cell_type": "markdown",
   "id": "c58e086c-2906-4cf7-99c2-85b612a0fe56",
   "metadata": {},
   "source": [
    "### Answer No. 3\n",
    "Class is a blueprint for defining how object would behave, what rules data of object will follow and what methods can be applied onto that object's data."
   ]
  },
  {
   "cell_type": "markdown",
   "id": "af5ddbde-b42a-49ef-84f8-1d6121daa59f",
   "metadata": {},
   "source": [
    "### Question No. 4\n",
    "What are attributes and methods in a class?"
   ]
  },
  {
   "cell_type": "markdown",
   "id": "9bcf5d39-4f98-494a-9435-32f5124da94f",
   "metadata": {},
   "source": [
    "### Answer No. 4\n",
    "Attributes or instance variables are the variables that define and store different properties of object. Methods are functions that can execute operations on the attributes of object."
   ]
  },
  {
   "cell_type": "markdown",
   "id": "15932993-cc53-4f7d-a827-459280066877",
   "metadata": {},
   "source": [
    "### Question No. 5\n",
    "What is the difference between class variables and instance variables in Python?"
   ]
  },
  {
   "cell_type": "markdown",
   "id": "fd9bee7b-7bc3-4014-beb7-a547ed5a71fc",
   "metadata": {},
   "source": [
    "### Answer No. 5\n",
    "**Class Variable:** In Python, a class variable is a variable that is defined within a class and outside of any class method. It is a variable that is shared by all instances of the class, meaning that if the variable's value is changed, the change will be reflected in all instances of the class. Class variables help store data common to all instances of a class.<br>\n",
    "**Instance Variable:** An instance variable, in object-oriented programming, is a variable that is associated with an instance or object of a class. It holds data or state that is specific to that instance and can be accessed or modified through the instance's methods. Instance variables are typically declared within the class definition and can have different values for different instances of the same class."
   ]
  },
  {
   "cell_type": "markdown",
   "id": "0b6b433b-decb-46f8-b875-a339b34d654b",
   "metadata": {},
   "source": [
    "### Question No. 6\n",
    "What is the purpose of the self parameter in Python class methods?"
   ]
  },
  {
   "cell_type": "markdown",
   "id": "4958a6e9-7b95-4639-aad4-86f32c7f6a87",
   "metadata": {},
   "source": [
    "### Answer No. 6\n",
    "self parameter is used for refering to the object created as a result of constructor call."
   ]
  },
  {
   "cell_type": "markdown",
   "id": "1252c4e9-c590-476b-a8ac-8d3f96cc82fa",
   "metadata": {},
   "source": [
    "### Question No. 7\n",
    "For a library management system, you have to design the \"Book\" class with OOP principles in mind. The “Book” class will have following attributes:<br>\n",
    "a. title: Represents the title of the book.<br>\n",
    "b. author: Represents the author(s) of the book.<br>\n",
    "c. isbn: Represents the ISBN (International Standard Book Number) of the book.<br>\n",
    "d. publication_year: Represents the year of publication of the book.<br>\n",
    "e. available_copies: Represents the number of copies available for checkout.<br>\n",
    "<br>\n",
    "The class will also include the following methods:<br>\n",
    "a. check_out(self): Decrements the available copies by one if there are copies available for checkout.<br>\n",
    "b. return_book(self): Increments the available copies by one when a book is returned.<br>\n",
    "c. display_book_info(self): Displays the information about the book, including its attributes and the number of available copies."
   ]
  },
  {
   "cell_type": "markdown",
   "id": "e3535813-7784-46bf-b9f7-f7b615912a99",
   "metadata": {},
   "source": [
    "### Answer No. 7"
   ]
  },
  {
   "cell_type": "code",
   "execution_count": 10,
   "id": "4e9f5cf2-ab89-450a-8bcb-bdc335681f92",
   "metadata": {},
   "outputs": [
    {
     "name": "stdout",
     "output_type": "stream",
     "text": [
      "Title:\n",
      " ABC \n",
      "Author:\n",
      " XYZ \n",
      "ISBN:\n",
      " 2300987 \n",
      "Publication Year:\n",
      " 2017 \n",
      "Available copies:\n",
      " 4\n"
     ]
    }
   ],
   "source": [
    "class Book:\n",
    "    def __init__(self,title,author,isbn,publication_year,available_copies):\n",
    "        self.title=title\n",
    "        self.author=author\n",
    "        self.isbn=isbn\n",
    "        self.publication_year=publication_year\n",
    "        self.available_copies=available_copies\n",
    "        \n",
    "    def check_out(self):\n",
    "        if self.available_copies > 0:\n",
    "            self.available_copies -= 1\n",
    "        else:\n",
    "            print(\"copies not available\")\n",
    "            \n",
    "    def return_book(self):\n",
    "        self.available_copies += 1\n",
    "        \n",
    "    def display_book_info(self):\n",
    "        print(\"Title:\\n\",self.title,\n",
    "              \"\\nAuthor:\\n\",self.author,\n",
    "              \"\\nISBN:\\n\",self.isbn,\n",
    "              \"\\nPublication Year:\\n\",self.publication_year,\n",
    "              \"\\nAvailable copies:\\n\",self.available_copies)\n",
    "        \n",
    "        \n",
    "book = Book(\"ABC\",\"XYZ\",2300987,2017,5)\n",
    "book.check_out()\n",
    "book.display_book_info()"
   ]
  },
  {
   "cell_type": "markdown",
   "id": "8ccc3f3f-760b-4efd-9317-015c6f264035",
   "metadata": {},
   "source": [
    "### Question No. 8\n",
    "For a ticket booking system, you have to design the \"Ticket\" class with OOP principles in mind. The “Ticket” class should have the following attributes:<br>\n",
    "a. ticket_id: Represents the unique identifier for the ticket.<br>\n",
    "b. event_name: Represents the name of the event.<br>\n",
    "c. event_date: Represents the date of the event.<br>\n",
    "d. venue: Represents the venue of the event.<br>\n",
    "e. seat_number: Represents the seat number associated with the ticket.<br>\n",
    "f. price: Represents the price of the ticket.<br>\n",
    "g. is_reserved: Represents the reservation status of the ticket.<br>\n",
    "The class also includes the following methods:<br>\n",
    "a. reserve_ticket(self): Marks the ticket as reserved if it is not already reserved.<br>\n",
    "b. cancel_reservation(self): Cancels the reservation of the ticket if it is already reserved.<br>\n",
    "c. display_ticket_info(self): Displays the information about the ticket, including its attributes and reservation status."
   ]
  },
  {
   "cell_type": "markdown",
   "id": "68a7f35f-905d-43b9-a055-f0262c98db59",
   "metadata": {},
   "source": [
    "### Answer No. 8"
   ]
  },
  {
   "cell_type": "code",
   "execution_count": 14,
   "id": "a0d55213-839e-4937-bfed-68636307a7a3",
   "metadata": {},
   "outputs": [
    {
     "name": "stdout",
     "output_type": "stream",
     "text": [
      "Ticket ID:\n",
      " PK900 \n",
      "Event Name:\n",
      " ABC \n",
      "Event Date:\n",
      " 2017-09-17 \n",
      "Venue:\n",
      " XYZ \n",
      "Seat Number:\n",
      " 23 \n",
      "Price:\n",
      " 23000 \n",
      "Reservation Status:\n",
      " R\n"
     ]
    }
   ],
   "source": [
    "class Ticket:\n",
    "    def __init__(self,ticket_id,event_name,event_date,venue,seat_number,price,is_reserved):\n",
    "        self.ticket_id=ticket_id\n",
    "        self.event_name=event_name\n",
    "        self.event_date=event_date\n",
    "        self.venue=venue\n",
    "        self.seat_number=seat_number\n",
    "        self.price=price\n",
    "        self.is_reserved=is_reserved\n",
    "        \n",
    "    def reserve_ticket(self):\n",
    "        if self.is_reserved != \"R\":\n",
    "            self.is_reserved = \"R\"\n",
    "        else:\n",
    "            print(\"Seat is already reserved\")\n",
    "            \n",
    "    def cancel_reservation(self):\n",
    "        if self.is_reserved != \"R\":\n",
    "            self.is_reserved = \"NR\"\n",
    "        else:\n",
    "            print(\"Seat is already unreserved\")\n",
    "            \n",
    "    def display_ticket_info(self):\n",
    "        print(\"Ticket ID:\\n\",self.ticket_id,\"\\nEvent Name:\\n\",self.event_name,\"\\nEvent Date:\\n\",self.event_date,\n",
    "              \"\\nVenue:\\n\",self.venue,\"\\nSeat Number:\\n\",self.seat_number,\"\\nPrice:\\n\",self.price,\n",
    "              \"\\nReservation Status:\\n\",self.is_reserved)\n",
    "        \n",
    "        \n",
    "ticket = Ticket(\"PK900\",\"ABC\",\"2017-09-17\",\"XYZ\",23,23000,\"NR\")\n",
    "ticket.reserve_ticket()\n",
    "ticket.display_ticket_info()"
   ]
  },
  {
   "cell_type": "markdown",
   "id": "d81b5a67-5566-457c-94a1-0fdf6f993f07",
   "metadata": {},
   "source": [
    "### Question No. 9\n",
    "You are creating a shopping cart for an e-commerce website. Using OOP to model the \"ShoppingCart\" functionality the class should contain following attributes and methods:<br>\n",
    "a. items: Represents the list of items in the shopping cart.<br>\n",
    "The class also includes the following methods:<br>\n",
    "\n",
    "a. add_item(self, item): Adds an item to the shopping cart by appending it to the list of items.<br>\n",
    "b. remove_item(self, item): Removes an item from the shopping cart if it exists in the list.<br>\n",
    "c. view_cart(self): Displays the items currently present in the shopping cart.<br>\n",
    "d. clear_cart(self): Clears all items from the shopping cart by reassigning an empty list to the items attribute."
   ]
  },
  {
   "cell_type": "markdown",
   "id": "1cc65b47-c025-4da2-9a5a-914a0f1a2b0e",
   "metadata": {},
   "source": [
    "### Answer No. 9"
   ]
  },
  {
   "cell_type": "code",
   "execution_count": 15,
   "id": "6b2680ab-647d-4c96-8c58-b69d47a9196a",
   "metadata": {},
   "outputs": [
    {
     "name": "stdout",
     "output_type": "stream",
     "text": [
      "['Biscuits', 'Bread', 'Butter', 'Mob', 'Jam']\n"
     ]
    }
   ],
   "source": [
    "class ShoppingCart:\n",
    "    def __init__(self,items):\n",
    "        self.items=items\n",
    "        \n",
    "    def add_item(self,item):\n",
    "        self.items.append(item)\n",
    "        \n",
    "    def remove_item(self,item):\n",
    "        if item in self.items:\n",
    "            self.items.remove(item)\n",
    "        else:\n",
    "            print(item,\"is not in the list\")\n",
    "            \n",
    "    def view_cart(self):\n",
    "        print(self.items)\n",
    "        \n",
    "    def clear_cart(self):\n",
    "        self.items=[]\n",
    "        \n",
    "itemlist = ShoppingCart([\"Biscuits\",\"Milk\",\"Bread\",\"Butter\",\"Mob\"])\n",
    "itemlist.add_item(\"Jam\")\n",
    "itemlist.remove_item(\"Milk\")\n",
    "itemlist.view_cart()"
   ]
  },
  {
   "cell_type": "markdown",
   "id": "b64a4e07-7156-42b6-89f6-423028c55841",
   "metadata": {},
   "source": [
    "### Question No. 10\n",
    "Imagine a school management system. You have to design the \"Student\" class using OOP concepts.The “Student” class has the following attributes:<br>\n",
    "a. name: Represents the name of the student.<br>\n",
    "b. age: Represents the age of the student.<br>\n",
    "c. grade: Represents the grade or class of the student.<br>\n",
    "d. student_id: Represents the unique identifier for the student.<br>\n",
    "e. attendance: Represents the attendance record of the student.<br>\n",
    "The class should also include the following methods:<br>\n",
    "a. update_attendance(self, date, status): Updates the attendance record of the student for a given date with the provided status (e.g., present or absent).<br>\n",
    "b. get_attendance(self): Returns the attendance record of the student.<br>\n",
    "c. get_average_attendance(self): Calculates and returns the average attendance percentage of the student based on their attendance record."
   ]
  },
  {
   "cell_type": "markdown",
   "id": "a021a491-2534-4db6-a861-19a0ffb82482",
   "metadata": {},
   "source": [
    "### Answer No. 10"
   ]
  },
  {
   "cell_type": "code",
   "execution_count": 18,
   "id": "31bc97c2-e418-40d6-8e5c-6f6fa8c86951",
   "metadata": {},
   "outputs": [
    {
     "name": "stdout",
     "output_type": "stream",
     "text": [
      "{'2023-01-01': 'Present', '2023-01-02': 'Present', '2023-01-03': 'Present', '2023-01-04': 'Absent', '2023-01-05': 'Absent'}\n",
      "Attendance percent: 60.0 %\n"
     ]
    }
   ],
   "source": [
    "class Student:\n",
    "    def __init__(self,name,age,grade,student_id,attendance):\n",
    "        self.name=name\n",
    "        self.age=age\n",
    "        self.grade=grade\n",
    "        self.student_id=student_id\n",
    "        self.attendance=attendance\n",
    "        \n",
    "    def update_attendance(self,date,status):\n",
    "        self.attendance[date]=status\n",
    "        \n",
    "    def get_attendance(self):\n",
    "        print(self.attendance)\n",
    "        \n",
    "    def get_average_attendance(self):\n",
    "        p=0\n",
    "        for key in self.attendance:\n",
    "            if self.attendance[key]==\"Present\":\n",
    "                p += 1\n",
    "        print(\"Attendance percent:\",(p/len(self.attendance))*100,\"%\")\n",
    "        \n",
    "        \n",
    "student=Student(\"Abbas\",13,7,\"21B\",{\"2023-01-01\":\"Present\",\"2023-01-02\":\"Present\",\"2023-01-03\":\"Present\",\n",
    "                                    \"2023-01-04\":\"Present\",\"2023-01-05\":\"Absent\"})\n",
    "student.update_attendance(\"2023-01-04\",\"Absent\")\n",
    "student.get_attendance()\n",
    "student.get_average_attendance()"
   ]
  }
 ],
 "metadata": {
  "kernelspec": {
   "display_name": "Python 3 (ipykernel)",
   "language": "python",
   "name": "python3"
  },
  "language_info": {
   "codemirror_mode": {
    "name": "ipython",
    "version": 3
   },
   "file_extension": ".py",
   "mimetype": "text/x-python",
   "name": "python",
   "nbconvert_exporter": "python",
   "pygments_lexer": "ipython3",
   "version": "3.10.6"
  }
 },
 "nbformat": 4,
 "nbformat_minor": 5
}
