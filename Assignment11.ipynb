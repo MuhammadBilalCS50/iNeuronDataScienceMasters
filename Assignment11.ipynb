{
 "cells": [
  {
   "cell_type": "markdown",
   "id": "0f4e9f63-5822-49db-b673-3818e12ce992",
   "metadata": {},
   "source": [
    "### Question No. 1\n",
    "What is the role of the 'else' block in a try-except statement? Provide an example scenario where it would be useful."
   ]
  },
  {
   "cell_type": "markdown",
   "id": "533b4e75-d229-4e5c-8c29-978cc46a8eaa",
   "metadata": {},
   "source": [
    "### Answer No. 1\n",
    "else block code is executed when try block does not have any exception. See example below:"
   ]
  },
  {
   "cell_type": "code",
   "execution_count": 2,
   "id": "3e0f9567-e4c0-4330-af0d-65ee5ce4e9ac",
   "metadata": {},
   "outputs": [
    {
     "name": "stdout",
     "output_type": "stream",
     "text": [
      "Sum of 2 and 3 is: 5.0\n"
     ]
    }
   ],
   "source": [
    "def sum_num(a,b):\n",
    "    try:\n",
    "        add = float(a+b)\n",
    "    #Exception for handling case of adding a numeric data type to a string data type\n",
    "    except TypeError:\n",
    "        print(\"One input is string. Plese input both numbers\")\n",
    "    #Exception for handling case of converting a string data type to float. If user inputs both strings, then + operator\n",
    "    #will concatenate them and return a string output. But converting string to float will results into error\n",
    "    except ValueError:\n",
    "        print(\"Both inputs are strings. Plese input both numbers\")\n",
    "    else:\n",
    "        print(\"Sum of\", a, \"and\", b,\"is:\", add)\n",
    "\n",
    "\n",
    "sum_num(2,3)"
   ]
  },
  {
   "cell_type": "markdown",
   "id": "f89cff0a-1747-4378-a9ca-b8afadbea949",
   "metadata": {},
   "source": [
    "### Question No. 2\n",
    "Can a try-except block be nested inside another try-except block? Explain with an example."
   ]
  },
  {
   "cell_type": "markdown",
   "id": "04b87553-60a0-4cd8-8471-603370d19a8f",
   "metadata": {},
   "source": [
    "### Answer No. 2\n",
    "Yes, we can have nested try-except block. See example:"
   ]
  },
  {
   "cell_type": "code",
   "execution_count": 3,
   "id": "237c0ede-77c2-421c-8dd5-173c334061b3",
   "metadata": {},
   "outputs": [
    {
     "name": "stdout",
     "output_type": "stream",
     "text": [
      "Both inputs are strings. Plese input both numbers\n",
      "One input is string. Plese input both numbers\n"
     ]
    }
   ],
   "source": [
    "def sum_num(a,b):\n",
    "    try:\n",
    "        try:\n",
    "            return float(a+b)\n",
    "        #Exception for handling case of converting a string data type to float. If user inputs both strings, then + operator\n",
    "        #will concatenate them and return a string output. But converting string to float will results into error\n",
    "        except ValueError:\n",
    "            print(\"Both inputs are strings. Plese input both numbers\")\n",
    "    #Exception for handling case of adding a numeric data type to a string data type\n",
    "    except TypeError:\n",
    "        print(\"One input is string. Plese input both numbers\")\n",
    "\n",
    "sum_num(\"two\",\"three\")\n",
    "sum_num(2,\"three\")"
   ]
  },
  {
   "cell_type": "markdown",
   "id": "9032dc05-6f79-4114-9de3-8f6492296b18",
   "metadata": {},
   "source": [
    "### Question No. 3\n",
    "How can you create a custom exception class in Python? Provide an example that demonstrates its usage."
   ]
  },
  {
   "cell_type": "markdown",
   "id": "9a7c9224-c136-408b-aa6e-dfee3cf57876",
   "metadata": {},
   "source": [
    "### Answer No. 3\n",
    "A new custom exception class can be defined by inheriting from built-in Exception class. See example below:"
   ]
  },
  {
   "cell_type": "code",
   "execution_count": 5,
   "id": "bc544d14-2255-409c-b9df-d8013e7efbf7",
   "metadata": {},
   "outputs": [
    {
     "name": "stdin",
     "output_type": "stream",
     "text": [
      "Enter age:  12\n"
     ]
    },
    {
     "name": "stdout",
     "output_type": "stream",
     "text": [
      "User is under age\n"
     ]
    }
   ],
   "source": [
    "class InvalidAgeError(Exception):\n",
    "    \"Raised when age is less than 18 years\"\n",
    "    pass\n",
    "\n",
    "age = int(input(\"Enter age: \"))\n",
    "try:\n",
    "    if age < 18:\n",
    "        raise InvalidAgeError\n",
    "    else:\n",
    "        print(\"User can apply for driving license\")\n",
    "except InvalidAgeError:\n",
    "    print(\"User is under age\")"
   ]
  },
  {
   "cell_type": "markdown",
   "id": "54330375-9ee6-427e-82d7-52c5063ab8e7",
   "metadata": {},
   "source": [
    "### Question No. 4\n",
    "What are some common exceptions that are built-in to Python?"
   ]
  },
  {
   "cell_type": "markdown",
   "id": "47a459ba-1d7a-4670-aba7-aeaa805d97f3",
   "metadata": {},
   "source": [
    "### Answer No. 4\n",
    "There are a lot of exceptions defined in python. Some commonly used are:<br>\n",
    "**EOFError**: EOFError is raised when the input() function hits the condition of end-of-file.<br>\n",
    "**FloatingPointError**: FloatingPointError is raised when a floating-point operation fails.<br>\n",
    "**IndexError**: Raised when index specified for calling a value in list/tuple does not exist.<br>\n",
    "**MemoryError**: MemoryError is raised when a program runs out of memory.<br>\n",
    "**OverflowError**: OverflowError is raised when the result of an arithmetic operation is too large.<br>\n",
    "**TabError**: TabError is raised when interpreter detects internal error.<br>\n",
    "**ValueError**: ValueError is raised when a function is given the correct type of argument but with an improper value."
   ]
  },
  {
   "cell_type": "markdown",
   "id": "34eeff32-8851-4711-b695-4fce7f3e40b9",
   "metadata": {},
   "source": [
    "### Question No. 5\n",
    "What is logging in Python, and why is it important in software development?"
   ]
  },
  {
   "cell_type": "markdown",
   "id": "dd9cacd2-1cd2-4d73-96c0-3937d4b67ccb",
   "metadata": {},
   "source": [
    "### Answer No. 5\n",
    "Logging is a technique for monitoring events that take place when some software is in use. For the creation, operation, and debugging of software, logging is crucial. There are very little odds that you would find the source of the issue if your programme fails and you don't have any logging records. Additionally, it will take a lot of time to identify the cause."
   ]
  },
  {
   "cell_type": "markdown",
   "id": "e8795168-ab16-46a2-beb9-3466ba880fe2",
   "metadata": {},
   "source": [
    "### Question No. 6\n",
    "Explain the purpose of log levels in Python logging and provide examples of when each log level would be appropriate."
   ]
  },
  {
   "cell_type": "markdown",
   "id": "c06aa1f8-4a36-4741-b141-7635b522adad",
   "metadata": {},
   "source": [
    "### Answer No. 6\n",
    "<p>Here are the different log levels in increasing order of severity:</p>\n",
    "<ul>\n",
    "<li>DEBUG: Detailed information, typically of interest only when diagnosing problems.</li>\n",
    "<li>INFO: Confirmation that things are working as expected.</li>\n",
    "<li>WARNING: An indication that something unexpected happened, or may happen in the future (e.g. &lsquo;disk space low&rsquo;). The software is still working as expected.</li>\n",
    "<li>ERROR: More serious problem that prevented the software from performing a function.</li>\n",
    "<li>CRITICAL: A very serious error, indicating that the program itself may be unable to continue running.</li>"
   ]
  },
  {
   "cell_type": "markdown",
   "id": "aa66761f-ac79-46ee-af31-93eb76a34884",
   "metadata": {},
   "source": [
    "### Question No. 7\n",
    "What are log formatters in Python logging, and how can you customise the log message format using formatters?"
   ]
  },
  {
   "cell_type": "markdown",
   "id": "f238ec62-56d3-499c-923a-13bdad4220e4",
   "metadata": {},
   "source": [
    "### Answer No. 7\n",
    "In Python's logging module, log formatters are used to define the structure and appearance of log messages generated by the logging system. Formatters control how log records are transformed from their internal representation to a formatted string that can be output to various logging destinations, such as the console, files, or external logging services."
   ]
  },
  {
   "cell_type": "code",
   "execution_count": 2,
   "id": "0d216130-6cd9-497d-be3b-ced352d46784",
   "metadata": {},
   "outputs": [],
   "source": [
    "# Set the format of the logs using a Formatter\n",
    "# This format includes the log timestamp, log level and log message\n",
    "# handler.setFormatter(logging.Formatter('%(asctime)s:%(levelname)s:%(message)s'))"
   ]
  },
  {
   "cell_type": "markdown",
   "id": "2f73b22b-e636-4532-a544-ca98092ffc6d",
   "metadata": {},
   "source": [
    "### Question No. 8\n",
    "How can you set up logging to capture log messages from multiple modules or classes in a Python application?"
   ]
  },
  {
   "cell_type": "markdown",
   "id": "9e127246-26f3-4827-9e59-760736520bea",
   "metadata": {},
   "source": [
    "### Answer No. 8\n",
    "Following steps need to be followed to capture log messages from multiple modules:<br>\n",
    "1. Import logging module\n",
    "2. Configure logging level as:<br>\n",
    "logging.basicConfig(level=logging.DEBUG)<br>\n",
    "3. Set up loggers in each module as:<br>\n",
    "In module1.py<br>\n",
    "module1_logger = logging.getLogger('module1')<br>\n",
    "<br>\n",
    "In module2.py<br>\n",
    "module2_logger = logging.getLogger('module2')<br>\n",
    "4. Use the logger instances to generate log messages within the respective modules or classes as:<br>\n",
    "In module1.py<br>\n",
    "module1_logger.debug('This is a debug message')<br>\n",
    "<br>\n",
    "In module2.py<br>\n",
    "module2_logger.debug('This is a debug message from module2')"
   ]
  },
  {
   "cell_type": "markdown",
   "id": "3db786c1-0826-4561-83ea-ff689a82e036",
   "metadata": {},
   "source": [
    "### Question No. 9\n",
    "What is the difference between the logging and print statements in Python? When should you use logging over print statements in a real-world application?"
   ]
  },
  {
   "cell_type": "markdown",
   "id": "0ef6b716-a79a-4ecb-ad92-96a0f1466357",
   "metadata": {},
   "source": [
    "### Answer No. 9\n",
    "Print statements are used for printing results of expressions or values of variables in console. This information is helpful for tracing the root of error in small programs but it's not feasible for large applications to try to print result of each possible expression or variable. This is where logging comes into play. Logging module provides a set of functionalities including defining logging levels, formatted log messages that could have timestamps, user info etc. as well and capability of storing logs on files or external applications. Therefore, logging module is prefered over print statement for logging and debuging purposes especially for applications."
   ]
  },
  {
   "cell_type": "markdown",
   "id": "5c301262-9dbe-467f-a82c-d6df4babb479",
   "metadata": {},
   "source": [
    "### Question No. 10\n",
    "Write a Python program that logs a message to a file named \"app.log\" with the following requirements:<br>\n",
    "● The log message should be \"Hello, World!\"<br>\n",
    "● The log level should be set to \"INFO.\"<br>\n",
    "● The log file should append new log entries without overwriting previous ones."
   ]
  },
  {
   "cell_type": "markdown",
   "id": "68028b17-4c4a-455a-a549-257c74551e6d",
   "metadata": {},
   "source": [
    "### Answer No. 10"
   ]
  },
  {
   "cell_type": "code",
   "execution_count": 21,
   "id": "635af524-2462-44ac-a47c-b0f523cfb65d",
   "metadata": {},
   "outputs": [],
   "source": [
    "import logging\n",
    "logging.basicConfig(filename='app.log',level=logging.INFO)\n",
    "logging.info(\"Hello, World!\")"
   ]
  },
  {
   "cell_type": "markdown",
   "id": "37cfd32a-8ba1-48cb-bb26-137b19954cf8",
   "metadata": {},
   "source": [
    "### Question No. 11\n",
    "Create a Python program that logs an error message to the console and a file named \"errors.log\" if an exception occurs during the program's execution. The error message should include the exception type and a timestamp."
   ]
  },
  {
   "cell_type": "markdown",
   "id": "fe6fea21-a415-4c29-8df3-f6101abe8563",
   "metadata": {},
   "source": [
    "### Answer No. 11"
   ]
  },
  {
   "cell_type": "code",
   "execution_count": 22,
   "id": "ddbfb3ed-a320-456b-97d9-1859466d6b9b",
   "metadata": {},
   "outputs": [],
   "source": [
    "import logging\n",
    "import sys\n",
    "\n",
    "logging.basicConfig(level=logging.INFO,\n",
    "    format=\"%(message)s - %(asctime)s\",\n",
    "    handlers=[\n",
    "        logging.FileHandler(\"error.log\"),\n",
    "        logging.StreamHandler(sys.stdout)\n",
    "    ])\n",
    "\n",
    "\n",
    "def sum_num(a,b):\n",
    "    try:\n",
    "        return float(a+b)\n",
    "    #Exception for handling case of adding a numeric data type to a string data type\n",
    "    except TypeError:\n",
    "        logging.critical(\"TypeError\")\n",
    "    #Exception for handling case of converting a string data type to float. If user inputs both strings, then + operator\n",
    "    #will concatenate them and return a string output. But converting string to float will results into error\n",
    "    except ValueError:\n",
    "        logging.critical(\"ValueError\")\n",
    "\n",
    "sum_num(2,\"three\")\n",
    "sum_num(\"two\",\"three\")"
   ]
  }
 ],
 "metadata": {
  "kernelspec": {
   "display_name": "Python 3 (ipykernel)",
   "language": "python",
   "name": "python3"
  },
  "language_info": {
   "codemirror_mode": {
    "name": "ipython",
    "version": 3
   },
   "file_extension": ".py",
   "mimetype": "text/x-python",
   "name": "python",
   "nbconvert_exporter": "python",
   "pygments_lexer": "ipython3",
   "version": "3.10.6"
  }
 },
 "nbformat": 4,
 "nbformat_minor": 5
}
