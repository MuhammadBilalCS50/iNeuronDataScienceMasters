{
 "cells": [
  {
   "cell_type": "markdown",
   "id": "e30a1321-35db-47d1-be11-d75b083246d1",
   "metadata": {},
   "source": [
    "### Question No. 1\n",
    "What is a lambda function in Python, and how does it differ from a regular function?"
   ]
  },
  {
   "cell_type": "markdown",
   "id": "3bb52658-6484-4f9e-8216-451e313d7ab6",
   "metadata": {},
   "source": [
    "### Answer No. 1\n",
    "lambda functions also known as Anonymous functions are used for simple use cases that involve single line expressions. They are different from user-defined functions in that they do not have a name and they are not able to execute complex if-else and for/while loop expressions.<br>\n",
    "lambda functions are defined as follows:<br>\n",
    "<br>\n",
    "*lambda argument: expression*<br>\n",
    "<br>\n",
    "where<br>\n",
    "lambda is the keyword indicting the lambda function<br>\n",
    "argument is the variable presenting argument of function<br>\n",
    "expression is the expression to executed<br>"
   ]
  },
  {
   "cell_type": "markdown",
   "id": "3062c2f4-1033-4d5e-8a3e-4cb837d6c4ca",
   "metadata": {},
   "source": [
    "### Question No. 2\n",
    "Can a lambda function in Python have multiple arguments? If yes, how can you define and use them?"
   ]
  },
  {
   "cell_type": "markdown",
   "id": "cfc5e188-2915-432c-b0c4-4601a1b77406",
   "metadata": {},
   "source": [
    "### Answer No. 2\n",
    "Yes, a lambda function can have multiple arguments. They can be defined as a comma-separated list within the function. For example, see the lambda function below for returning sum of two numbers:"
   ]
  },
  {
   "cell_type": "code",
   "execution_count": 1,
   "id": "1a122692-89fb-4a6a-bd3b-2a519510669d",
   "metadata": {},
   "outputs": [
    {
     "data": {
      "text/plain": [
       "5"
      ]
     },
     "execution_count": 1,
     "metadata": {},
     "output_type": "execute_result"
    }
   ],
   "source": [
    "(lambda a,b: a+b) (3,2)"
   ]
  },
  {
   "cell_type": "markdown",
   "id": "561b32b0-8f89-4dec-8de3-a1f0f43eb7b3",
   "metadata": {},
   "source": [
    "### Question No. 3\n",
    "How are lambda functions typically used in Python? Provide an example use case."
   ]
  },
  {
   "cell_type": "markdown",
   "id": "cc51f784-5436-43a2-a94a-fd3a08f99144",
   "metadata": {},
   "source": [
    "### Answer No. 3\n",
    "lambda functions are used for simple one-line expressions. There are two ways of calling lambda functions:<br>\n",
    "1. They can either be called by enclosing them in parenthesis and then adding arguments, also enclosed in parenthesis, next to them. See example below:"
   ]
  },
  {
   "cell_type": "code",
   "execution_count": 1,
   "id": "bda11c8e-7216-4afa-9ad6-9a64fd516ece",
   "metadata": {},
   "outputs": [
    {
     "data": {
      "text/plain": [
       "5"
      ]
     },
     "execution_count": 1,
     "metadata": {},
     "output_type": "execute_result"
    }
   ],
   "source": [
    "(lambda a,b: a+b) (3,2)"
   ]
  },
  {
   "cell_type": "markdown",
   "id": "5dae740b-3f3d-4bfa-ad04-e9437698c09b",
   "metadata": {},
   "source": [
    "2. Or they can be strored in a variable and then called by writing variable name followed by arguments enclosed in parenthesis. See example below:"
   ]
  },
  {
   "cell_type": "code",
   "execution_count": 2,
   "id": "502ad16d-e499-4a9f-a94c-2392ff879c79",
   "metadata": {},
   "outputs": [
    {
     "data": {
      "text/plain": [
       "5"
      ]
     },
     "execution_count": 2,
     "metadata": {},
     "output_type": "execute_result"
    }
   ],
   "source": [
    "addition = (lambda a,b: a+b)\n",
    "addition(3,2)"
   ]
  },
  {
   "cell_type": "markdown",
   "id": "9e4e9d34-9424-4c14-9b6c-835cc027f627",
   "metadata": {},
   "source": [
    "### Question No. 4\n",
    "What are the advantages and limitations of lambda functions compared to regular functions in Python?"
   ]
  },
  {
   "cell_type": "markdown",
   "id": "6b2e57e2-8493-49a3-9af1-090889a23f47",
   "metadata": {},
   "source": [
    "### Answer No. 4\n",
    "**Advantages of lambda function:**<br>\n",
    "1. Being anonymous, lambda functions can be easily passed without being assigned to a variable.\n",
    "2. Lambda functions are inline functions and thus execute comparatively faster.\n",
    "3. Many times lambda functions make code much more readable by avoiding the logical jumps caused by function calls. <br>\n"
   ]
  },
  {
   "cell_type": "markdown",
   "id": "f6b491b5-f234-4f49-a300-73d596505e20",
   "metadata": {},
   "source": [
    "**Disadvantages of lambda function:**<br>\n",
    "1. Lambda functions can have only one expression.\n",
    "2. Lambda functions cannot have a docstring.\n",
    "3. Many times lambda functions make code difficult to read. For example, in the cases where multiple else conditions are needed. "
   ]
  },
  {
   "cell_type": "markdown",
   "id": "81a16c1e-b7fb-4cde-aaec-23939d9f8fa6",
   "metadata": {},
   "source": [
    "### Question No. 5\n",
    "Are lambda functions in Python able to access variables defined outside of their own scope? Explain with an example."
   ]
  },
  {
   "cell_type": "markdown",
   "id": "91b900c7-e993-4e28-af04-d18e2bcdd4d0",
   "metadata": {},
   "source": [
    "### Answer No. 5\n",
    "Yes, lambda functions in Python can access variables defined outside of their own scope.<br>\n",
    "<br>\n",
    "When a lambda function accesses a variable, it looks for that variable in the following order:<br>\n",
    "<br>\n",
    "Local scope (variables defined within the lambda function itself).<br>\n",
    "Enclosing scope (variables defined in the outer function where the lambda is defined).<br>\n",
    "Global scope (variables defined at the module level).<br>\n",
    "Built-in scope (predefined Python functions and variables).<br>\n",
    "Here's an example to demonstrate how lambda functions can access variables from their enclosing scope:<br>"
   ]
  },
  {
   "cell_type": "code",
   "execution_count": 1,
   "id": "5369bc1e-ed40-4ae1-a909-e3492a35cab6",
   "metadata": {},
   "outputs": [
    {
     "name": "stdout",
     "output_type": "stream",
     "text": [
      "30\n"
     ]
    }
   ],
   "source": [
    "def outer_function(x):\n",
    "    # This is the enclosing function where the lambda is defined\n",
    "    y = 10  # Variable defined in the outer_function's scope\n",
    "\n",
    "    # Define a lambda function that uses x and y from the enclosing scope\n",
    "    lambda_func = lambda z: x + y + z\n",
    "\n",
    "    return lambda_func\n",
    "\n",
    "# Call the outer function and get the lambda function\n",
    "my_lambda = outer_function(5)\n",
    "\n",
    "# Now, let's use the lambda function and pass an argument to it\n",
    "result = my_lambda(15)\n",
    "\n",
    "print(result)  # Output will be 30 (5 + 10 + 15)\n"
   ]
  },
  {
   "cell_type": "markdown",
   "id": "447bcc76-adbf-4b6b-b37b-c2e45f081ee9",
   "metadata": {},
   "source": [
    "### Question No. 6\n",
    "Write a lambda function to calculate the square of a given number."
   ]
  },
  {
   "cell_type": "markdown",
   "id": "24b64aa5-df94-4029-abbe-183eaca5d15e",
   "metadata": {},
   "source": [
    "### Answer No. 6"
   ]
  },
  {
   "cell_type": "code",
   "execution_count": 2,
   "id": "6743244b-6a0c-41a2-bf71-a8337d3c388b",
   "metadata": {},
   "outputs": [
    {
     "data": {
      "text/plain": [
       "4"
      ]
     },
     "execution_count": 2,
     "metadata": {},
     "output_type": "execute_result"
    }
   ],
   "source": [
    "sq_func = lambda x: x**2\n",
    "sq_func(2)"
   ]
  },
  {
   "cell_type": "markdown",
   "id": "e30c50df-a415-45fb-aa07-1297c48b4d58",
   "metadata": {},
   "source": [
    "### Question No. 7\n",
    "Create a lambda function to find the maximum value in a list of integers."
   ]
  },
  {
   "cell_type": "markdown",
   "id": "6ba7eaed-d2ba-430b-88b1-159330d0d557",
   "metadata": {},
   "source": [
    "### Answer No. 7"
   ]
  },
  {
   "cell_type": "code",
   "execution_count": 3,
   "id": "908b77dc-aa2a-4c4b-b043-5e49bf5073ad",
   "metadata": {},
   "outputs": [
    {
     "data": {
      "text/plain": [
       "5"
      ]
     },
     "execution_count": 3,
     "metadata": {},
     "output_type": "execute_result"
    }
   ],
   "source": [
    "(lambda x: max(x)) ([1,2,3,4,5])"
   ]
  },
  {
   "cell_type": "markdown",
   "id": "a515e03b-d48c-4069-950e-f01b1ffe8323",
   "metadata": {},
   "source": [
    "### Question No. 8\n",
    "Implement a lambda function to filter out all the even numbers from a list of integers."
   ]
  },
  {
   "cell_type": "markdown",
   "id": "f21f6d1f-d0ee-4c01-a69d-2acadea8b968",
   "metadata": {},
   "source": [
    "### Answer No. 8"
   ]
  },
  {
   "cell_type": "code",
   "execution_count": 14,
   "id": "54bb15a4-4089-407c-a780-cd6bcf6dcdac",
   "metadata": {},
   "outputs": [
    {
     "name": "stdout",
     "output_type": "stream",
     "text": [
      "1 is odd\n",
      "2 is even\n",
      "3 is odd\n",
      "4 is even\n",
      "5 is odd\n"
     ]
    },
    {
     "data": {
      "text/plain": [
       "[None, None, None, None, None]"
      ]
     },
     "execution_count": 14,
     "metadata": {},
     "output_type": "execute_result"
    }
   ],
   "source": [
    "(lambda x: [(print(i,\"is even\") if i%2==0 else print(i,\"is odd\")) for i in x]) ([1,2,3,4,5])"
   ]
  },
  {
   "cell_type": "markdown",
   "id": "51da7177-cdbb-4884-b395-fe9e450faeae",
   "metadata": {},
   "source": [
    "### Question No. 9\n",
    "Write a lambda function to sort a list of strings in ascending order based on the length of each string."
   ]
  },
  {
   "cell_type": "markdown",
   "id": "1c32ed97-f61e-4488-97bc-6c2ef3537a14",
   "metadata": {},
   "source": [
    "### Answer No. 9"
   ]
  },
  {
   "cell_type": "code",
   "execution_count": 3,
   "id": "5c76f966-4c83-4912-a27f-9be39dfb5ad5",
   "metadata": {},
   "outputs": [
    {
     "name": "stdout",
     "output_type": "stream",
     "text": [
      "['Axe', 'Tree', 'Apple', 'Banana']\n"
     ]
    }
   ],
   "source": [
    "list1=['Apple', 'Banana', 'Tree', 'Axe']\n",
    "list1.sort(key=lambda x: len(x))\n",
    "print(list1)"
   ]
  },
  {
   "cell_type": "markdown",
   "id": "44de40a1-42da-445d-a6ea-8fe0421859c7",
   "metadata": {},
   "source": [
    "### Question No. 10\n",
    "Create a lambda function that takes two lists as input and returns a new list containing the common elements between the two lists."
   ]
  },
  {
   "cell_type": "markdown",
   "id": "b22afdf4-b57f-4285-8039-ae7ae6c36925",
   "metadata": {
    "tags": []
   },
   "source": [
    "### Answer No. 10"
   ]
  },
  {
   "cell_type": "code",
   "execution_count": 25,
   "id": "157558bc-4666-40c7-a9cc-ac2a8b8b76c8",
   "metadata": {},
   "outputs": [
    {
     "data": {
      "text/plain": [
       "[4, 5]"
      ]
     },
     "execution_count": 25,
     "metadata": {},
     "output_type": "execute_result"
    }
   ],
   "source": [
    "list1=[1,2,3,4,5]\n",
    "list2=[4,5,6,7,8]\n",
    "(lambda list1, list2: list(set(list1).intersection(set(list2)))) (list1,list2)"
   ]
  },
  {
   "cell_type": "markdown",
   "id": "2a5b8320-54bf-4868-8c41-d52aaf05cbc5",
   "metadata": {},
   "source": [
    "### Question No. 11\n",
    "Write a recursive function to calculate the factorial of a given positive integer."
   ]
  },
  {
   "cell_type": "markdown",
   "id": "350b9617-ac7f-4d99-aecd-b7bd0f15eb72",
   "metadata": {},
   "source": [
    "### Answer No. 11"
   ]
  },
  {
   "cell_type": "code",
   "execution_count": 1,
   "id": "e0395253-9b89-4245-be74-7246f079a30b",
   "metadata": {},
   "outputs": [],
   "source": [
    "def factorial(n):\n",
    "    # Base case: 1! = 1\n",
    "    if n == 1:\n",
    "        return 1\n",
    "    # Recursive case: n! = n * (n-1)!\n",
    "    else:\n",
    "        return n * factorial(n-1)"
   ]
  },
  {
   "cell_type": "markdown",
   "id": "f692e2c5-9d53-4c41-bd83-c10c83dea344",
   "metadata": {},
   "source": [
    "### Question No. 12\n",
    "Implement a recursive function to compute the nth Fibonacci number."
   ]
  },
  {
   "cell_type": "markdown",
   "id": "5459710d-3a2a-4d2e-9ac4-d657dbb0ee49",
   "metadata": {},
   "source": [
    "### Answer No. 12"
   ]
  },
  {
   "cell_type": "code",
   "execution_count": 3,
   "id": "303f81bc-b698-42a7-a6b6-9c6a09d19d01",
   "metadata": {},
   "outputs": [
    {
     "data": {
      "text/plain": [
       "21"
      ]
     },
     "execution_count": 3,
     "metadata": {},
     "output_type": "execute_result"
    }
   ],
   "source": [
    "def fibonacci(n):\n",
    "    if n==0:\n",
    "        return 0\n",
    "    elif n==1:\n",
    "        return 1\n",
    "    else:\n",
    "        return fibonacci(n-1) + fibonacci(n-2)\n",
    "    \n",
    "fibonacci(8)"
   ]
  },
  {
   "cell_type": "markdown",
   "id": "475880d2-9af5-4347-9a0c-aa1bc97830b3",
   "metadata": {},
   "source": [
    "### Question No. 13\n",
    "Create a recursive function to find the sum of all the elements in a given list."
   ]
  },
  {
   "cell_type": "markdown",
   "id": "9256aae7-f8d8-48d2-8ea2-77a73f422eeb",
   "metadata": {},
   "source": [
    "### Answer No. 13"
   ]
  },
  {
   "cell_type": "code",
   "execution_count": 1,
   "id": "4711648b-bf78-4dcb-a693-8992af489a97",
   "metadata": {
    "tags": []
   },
   "outputs": [
    {
     "name": "stdout",
     "output_type": "stream",
     "text": [
      "Sum: 15\n"
     ]
    }
   ],
   "source": [
    "def recursive_sum(lst):\n",
    "    if len(lst) == 0:\n",
    "        return 0\n",
    "    else:\n",
    "        return lst[0] + recursive_sum(lst[1:])\n",
    "\n",
    "# Example usage\n",
    "my_list = [1, 2, 3, 4, 5]\n",
    "result = recursive_sum(my_list)\n",
    "print(\"Sum:\", result)"
   ]
  },
  {
   "cell_type": "markdown",
   "id": "f1d83686-a5ca-44f8-9863-22b06c1e7c98",
   "metadata": {},
   "source": [
    "### Question No. 14\n",
    "Write a recursive function to determine whether a given string is a palindrome."
   ]
  },
  {
   "cell_type": "markdown",
   "id": "f6f43ec5-2094-40e3-adf0-9b9a5d87737a",
   "metadata": {},
   "source": [
    "### Answer No. 14"
   ]
  },
  {
   "cell_type": "code",
   "execution_count": 4,
   "id": "fd583cb3-7af2-4059-8ce8-450ecc1e4951",
   "metadata": {},
   "outputs": [
    {
     "name": "stdout",
     "output_type": "stream",
     "text": [
      "Input string is Palindrome\n"
     ]
    }
   ],
   "source": [
    "def palindrome_string(word):\n",
    "    length = len(word)\n",
    "    if length>0:\n",
    "        if word[0]==word[length-1]:\n",
    "            palindrome_string(word[1:length-1])\n",
    "        else:\n",
    "            print(\"Input string is not Palindrome\")\n",
    "    else:\n",
    "        print(\"Input string is Palindrome\")\n",
    "        \n",
    "\n",
    "palindrome_string(\"TENET\")  "
   ]
  },
  {
   "cell_type": "markdown",
   "id": "b5f388e1-7f11-4115-8571-8ee82ee917d2",
   "metadata": {
    "tags": []
   },
   "source": [
    "### Question No. 15\n",
    "Implement a recursive function to find the greatest common divisor (GCD) of two positive integers."
   ]
  },
  {
   "cell_type": "markdown",
   "id": "e42aa1c7-b2d3-4919-badf-f3da3e72cdeb",
   "metadata": {
    "tags": []
   },
   "source": [
    "### Answer No. 15"
   ]
  },
  {
   "cell_type": "code",
   "execution_count": 1,
   "id": "f8d8f197-526b-4f7e-bff1-ccb360e2b6b4",
   "metadata": {},
   "outputs": [
    {
     "data": {
      "text/plain": [
       "1"
      ]
     },
     "execution_count": 1,
     "metadata": {},
     "output_type": "execute_result"
    }
   ],
   "source": [
    "def gcd_recursive(a, b):\n",
    "    if b == 0:\n",
    "        return a\n",
    "    else:\n",
    "        return gcd_recursive(b, a % b)\n",
    "    \n",
    "gcd_recursive(4,9)"
   ]
  }
 ],
 "metadata": {
  "kernelspec": {
   "display_name": "Python 3 (ipykernel)",
   "language": "python",
   "name": "python3"
  },
  "language_info": {
   "codemirror_mode": {
    "name": "ipython",
    "version": 3
   },
   "file_extension": ".py",
   "mimetype": "text/x-python",
   "name": "python",
   "nbconvert_exporter": "python",
   "pygments_lexer": "ipython3",
   "version": "3.10.6"
  }
 },
 "nbformat": 4,
 "nbformat_minor": 5
}
