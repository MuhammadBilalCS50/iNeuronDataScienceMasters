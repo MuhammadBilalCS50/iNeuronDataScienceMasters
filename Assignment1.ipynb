{
 "cells": [
  {
   "cell_type": "markdown",
   "id": "cf6fe164-8389-406c-99ac-eadff9f8176d",
   "metadata": {},
   "source": [
    "### Question No. 1\n",
    "In the below elements which of them are values or an expression? eg:- values can be integer or string and expressions will be mathematical operators. <br>\n",
    "*<br>\n",
    "&#39;hello&#39;<br>\n",
    "-87.8<br>\n",
    "-<br>\n",
    "/<br>\n",
    "+<br>\n",
    "6"
   ]
  },
  {
   "cell_type": "markdown",
   "id": "244368fb-5739-41c2-9626-2d35acd92bcb",
   "metadata": {},
   "source": [
    "### Answer No. 1\n",
    "Among the element provided, following are values as they can be assigned to a variable:<br>\n",
    "'hello'<br>\n",
    "-87.8<br>\n",
    "6<br>\n",
    "Whereas, following are mathematical operators used in expressions:<br>\n",
    "*<br>\n",
    "-<br>\n",
    "/<br>\n",
    "+"
   ]
  },
  {
   "cell_type": "markdown",
   "id": "874b3547-adc6-425e-9e0b-45941241bb15",
   "metadata": {},
   "source": [
    "### Question No. 2\n",
    "What is the difference between string and variable?\n",
    "\n",
    "### Answer No. 2\n",
    "**String:** String is a data type that contains alphabets and special characters and is always enclosed in quotes in Python.<br>\n",
    "**Variable:** Variables are named locations that store data in memory and are declared by assigning a value to them using assignment (=) operator"
   ]
  },
  {
   "cell_type": "markdown",
   "id": "1a49183c-83b2-4e57-b8b8-69ba17cb6bb2",
   "metadata": {},
   "source": [
    "### Question No. 3\n",
    "Describe three different data types.\n",
    "\n",
    "### Answer No. 3\n",
    "**Integers:** Integers are whole numbers, without a fractional component. They can be positive or negative.<br>\n",
    "**Floats:** Floats represent real numbers and are written with a decimal point.<br>\n",
    "**Strings:** Strings in Python are sequences of character data. They are created by enclosing characters in quotes."
   ]
  },
  {
   "cell_type": "markdown",
   "id": "91c98ef4-2b63-4a1f-a255-ebfc2065f170",
   "metadata": {},
   "source": [
    "### Question No. 4\n",
    "What is an expression made up of? What do all expressions do?\n",
    "\n",
    "### Answer No. 4\n",
    "An expression is a combination of operartors and operands. The expression in Python produces some value or result after being interpreted by the Python interpreter. Example: x=x+10."
   ]
  },
  {
   "cell_type": "markdown",
   "id": "841979fe-17a2-4402-91b2-8339ce3da07e",
   "metadata": {},
   "source": [
    "### Question No. 5\n",
    "This assignment statements, like spam = 10. What is the difference between an expression and a statement?\n",
    "### Answer No. 5\n",
    "**Expression:** An expression is a combination of operartors and operands. The expression in Python produces some value or result after being interpreted by the Python interpreter. Example: x=x+10.<br>\n",
    "**Statement:** A statement is not evaluated for some result. A statement is used for creating variables or for displaying values. Example: x=10\n"
   ]
  },
  {
   "cell_type": "markdown",
   "id": "612d061f-06a9-436a-b9fc-339edcc33c1c",
   "metadata": {},
   "source": [
    "### Question No. 6\n",
    "After running the following code, what does the variable bacon contain?<br>\n",
    "bacon = 22<br>\n",
    "bacon + 1\n",
    "\n",
    "### Answer No. 6"
   ]
  },
  {
   "cell_type": "code",
   "execution_count": 2,
   "id": "c2fce262-c4ee-4b20-96b8-e9077902ecf1",
   "metadata": {},
   "outputs": [
    {
     "name": "stdout",
     "output_type": "stream",
     "text": [
      "22\n"
     ]
    }
   ],
   "source": [
    "bacon=22\n",
    "bacon+1\n",
    "print (bacon)"
   ]
  },
  {
   "cell_type": "markdown",
   "id": "03b2d68f-6b66-42ad-8bb8-fdb13bf0dc99",
   "metadata": {},
   "source": [
    "### Question No. 7\n",
    "What should the values of the following two terms be?<br>\n",
    "&#39;spam&#39; + &#39;spamspam&#39;<br>\n",
    "&#39;spam&#39; * 3\n",
    "\n",
    "### Answer No. 7"
   ]
  },
  {
   "cell_type": "code",
   "execution_count": 3,
   "id": "1af17a34-637e-4fdc-96d5-ea492ecff8b2",
   "metadata": {},
   "outputs": [
    {
     "name": "stdout",
     "output_type": "stream",
     "text": [
      "spamspamspam\n",
      "spamspamspam\n"
     ]
    }
   ],
   "source": [
    "print ('spam'+'spamspam')\n",
    "print ('spam'*3)"
   ]
  },
  {
   "cell_type": "markdown",
   "id": "cf920b37-7641-4458-9081-3872ae07efe4",
   "metadata": {},
   "source": [
    "### Question No. 8\n",
    "Why is eggs a valid variable name while 100 is invalid?\n",
    "\n",
    "### Answer No. 8\n",
    "Variable names in Python can be any length and can consist of uppercase and lowercase letters ( A-Z , a-z ), digits ( 0-9 ), and the underscore character ( _ ). Although a variable name can contain digits, the first character of a variable name cannot be a digit. That's the reason why 100 is an invalid variable name as it begins with a number"
   ]
  },
  {
   "cell_type": "markdown",
   "id": "025c20be-ef97-4342-b170-8159f44cd3c2",
   "metadata": {},
   "source": [
    "### Question No. 9\n",
    "What three functions can be used to get the integer, floating-point number, or string version of a value?\n",
    "\n",
    "### Answer No. 9\n",
    "int is the function to get integer.<br>\n",
    "float is the function to get floating-point number.<br>\n",
    "str is the function to get string."
   ]
  },
  {
   "cell_type": "markdown",
   "id": "25fdca31-e444-4f92-80e9-75ef162565f9",
   "metadata": {},
   "source": [
    "### Question No. 10\n",
    "Why does this expression cause an error? How can you fix it?\n",
    "&#39;I have eaten &#39; + 99 + &#39; burritos.&#39;\n",
    "\n",
    "### Answer No. 10\n",
    "Expression returns error because the expression is trying to concatenate strings ('I have eaten', 'burritos') with integer (99). It can be corrected by converting integer 99 into string by enclosing it in quotes."
   ]
  },
  {
   "cell_type": "code",
   "execution_count": 6,
   "id": "c271bd2d-e833-47bd-82ab-8a0517d812ea",
   "metadata": {},
   "outputs": [
    {
     "data": {
      "text/plain": [
       "'I have eaten 99 burritos.'"
      ]
     },
     "execution_count": 6,
     "metadata": {},
     "output_type": "execute_result"
    }
   ],
   "source": [
    "'I have eaten'+' 99'+' burritos.'"
   ]
  }
 ],
 "metadata": {
  "kernelspec": {
   "display_name": "Python 3 (ipykernel)",
   "language": "python",
   "name": "python3"
  },
  "language_info": {
   "codemirror_mode": {
    "name": "ipython",
    "version": 3
   },
   "file_extension": ".py",
   "mimetype": "text/x-python",
   "name": "python",
   "nbconvert_exporter": "python",
   "pygments_lexer": "ipython3",
   "version": "3.10.6"
  }
 },
 "nbformat": 4,
 "nbformat_minor": 5
}
