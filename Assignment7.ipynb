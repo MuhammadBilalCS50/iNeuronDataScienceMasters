{
 "cells": [
  {
   "cell_type": "markdown",
   "id": "6be32a23-152b-4eae-9699-dda7397fd00d",
   "metadata": {},
   "source": [
    "### Question No. 1\n",
    "Create two int type variables, apply addition, subtraction, division and multiplications and store the results in variables. Then print the data in the following format by calling the variables:<br>\n",
    "First variable is __ & second variable is __.<br>\n",
    "Addition: __ + __ = __<br>\n",
    "Subtraction: __ - __ = __<br>\n",
    "Multiplication: __ * __ = __<br>\n",
    "Division: __ / __ = __\n",
    "\n",
    "### Answer No. 1"
   ]
  },
  {
   "cell_type": "code",
   "execution_count": 2,
   "id": "4d319576-beac-44b3-b976-03d29cd4e82b",
   "metadata": {},
   "outputs": [
    {
     "name": "stdout",
     "output_type": "stream",
     "text": [
      "First variable is 10 & second variable is 5\n",
      "Addition: 10 + 5 = 15\n",
      "Subtracion: 10 - 5 = 5\n",
      "Multiplication: 10 * 5 = 50\n",
      "Division: 10 / 5 = 2.0\n"
     ]
    }
   ],
   "source": [
    "a=10\n",
    "b=5\n",
    "add=a+b\n",
    "sub=a-b\n",
    "mul=a*b\n",
    "div=a/b\n",
    "print ('First variable is',a,'& second variable is',b)\n",
    "print ('Addition:',a,'+',b,'=',add)\n",
    "print ('Subtracion:',a,'-',b,'=',sub)\n",
    "print ('Multiplication:',a,'*',b,'=',mul)\n",
    "print ('Division:',a,'/',b,'=',div)"
   ]
  },
  {
   "cell_type": "markdown",
   "id": "4f44ca32-44f6-4c36-bcc8-a9d2b05d0d3f",
   "metadata": {},
   "source": [
    "### Question No. 2\n",
    "What is the difference between the following operators:<br>\n",
    "(i) ‘/’ & ‘//’<br>\n",
    "(ii) ‘**’ & ‘^’\n",
    "\n",
    "### Answer No. 2\n",
    "(i) '/' is division operator and it returns complete quotient (both decimal and non-decimal part) upon dividing one number with another. '//' is floor division operator and it returns the quotient after rounding it down to the nearest whole number.<br>\n",
    "(ii) '**' is exponention operator in Python. '^' is a bitwise operator also known as XOR operator. It returns 1, if any of the two bits is 1 otherwise, it returns zero."
   ]
  },
  {
   "cell_type": "code",
   "execution_count": 9,
   "id": "b607465a-7d60-494b-9e9a-969c349b5d8d",
   "metadata": {},
   "outputs": [
    {
     "name": "stdout",
     "output_type": "stream",
     "text": [
      "5.6\n",
      "5\n",
      "9\n",
      "1\n"
     ]
    }
   ],
   "source": [
    "print (28/5) #division\n",
    "print (28//5) #floor division\n",
    "print (3**2) #exponention operator raising 3 to the power 2 or 3*3 which is equal to 9\n",
    "print (3^2) #In binary number system, 3 is 11 and 2 is 10. So, XOR operator would return 01 which is again equal to 1 in decimal number system"
   ]
  },
  {
   "cell_type": "markdown",
   "id": "f41844c2-8035-4d7d-b3f5-9424677fae11",
   "metadata": {},
   "source": [
    "### Question No. 3\n",
    "List the logical operators.\n",
    "\n",
    "### Answer No. 3\n",
    "Following are three logical operators used in Python:<br>\n",
    "and (Returns true if both operands are true otherwise false)<br>\n",
    "or (Returns true if at least one of operands is true otherwise false)<br>\n",
    "not (Converts true to false and false to true)"
   ]
  },
  {
   "cell_type": "markdown",
   "id": "c14a40eb-84f5-4025-bdc0-f5796db67de9",
   "metadata": {},
   "source": [
    "### Question No. 4\n",
    "Explain right shift operator and left shift operator with examples.\n",
    "\n",
    "### Answer No. 4\n",
    "Right shift operator is a bitwise operator that shifts the bits to right by adding zeros to its left. Left shift operator shifts the bits to left by adding zeros to its right. See below examples:"
   ]
  },
  {
   "cell_type": "code",
   "execution_count": 4,
   "id": "7975cf14-8458-48b1-8049-2cd3ad77a7bc",
   "metadata": {},
   "outputs": [
    {
     "name": "stdout",
     "output_type": "stream",
     "text": [
      "0\n",
      "8\n"
     ]
    }
   ],
   "source": [
    "a=2 # 0000 0010\n",
    "#Right Shift\n",
    "print (a >> 2) # 0000 0000 = 0\n",
    "#Left Shift\n",
    "print (a << 2) # 0000 1000 = 8"
   ]
  },
  {
   "cell_type": "markdown",
   "id": "d55196af-eec5-48f1-9f83-45806adda550",
   "metadata": {},
   "source": [
    "### Question No. 5\n",
    "Create a list containing int type data of length 15. Then write a code to check if 10 is present in the list or not.\n",
    "\n",
    "### Answer No. 5"
   ]
  },
  {
   "cell_type": "code",
   "execution_count": 6,
   "id": "fc51ad67-9949-4fc2-8dd9-9984216ff24a",
   "metadata": {},
   "outputs": [
    {
     "name": "stdout",
     "output_type": "stream",
     "text": [
      "10 is present in list\n"
     ]
    }
   ],
   "source": [
    "list1=[1,2,3,4,5,6,7,8,9,10,11,12,13,14,15]\n",
    "if 10 in list1:\n",
    "    print ('10 is present in list')\n",
    "else:\n",
    "    print ('10 is not present in list')"
   ]
  }
 ],
 "metadata": {
  "kernelspec": {
   "display_name": "Python 3 (ipykernel)",
   "language": "python",
   "name": "python3"
  },
  "language_info": {
   "codemirror_mode": {
    "name": "ipython",
    "version": 3
   },
   "file_extension": ".py",
   "mimetype": "text/x-python",
   "name": "python",
   "nbconvert_exporter": "python",
   "pygments_lexer": "ipython3",
   "version": "3.10.6"
  }
 },
 "nbformat": 4,
 "nbformat_minor": 5
}
