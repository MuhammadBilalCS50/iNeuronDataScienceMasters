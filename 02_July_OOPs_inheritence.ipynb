{
 "cells": [
  {
   "cell_type": "markdown",
   "id": "ffa5b45d-88a7-474e-9810-5980a37ce395",
   "metadata": {},
   "source": [
    "### Question No. 1\n",
    "Explain what inheritance is in object-oriented programming and why it is used."
   ]
  },
  {
   "cell_type": "markdown",
   "id": "ce23eff9-8115-4701-92cb-45149f280d2b",
   "metadata": {},
   "source": [
    "### Answer No. 1\n",
    "Inheritence is a feature of Object Oriented Programming that allows to create a class that inherits its attributes and methods from another class. It promotes reusability and allows to write program ina more structured manner thus increasing readability of code. See code below:"
   ]
  },
  {
   "cell_type": "code",
   "execution_count": 5,
   "id": "18be82d6-9adf-4c38-968a-aab4f4386929",
   "metadata": {},
   "outputs": [
    {
     "name": "stdout",
     "output_type": "stream",
     "text": [
      "Color of car is Red\n",
      "Model of car is Civic\n"
     ]
    }
   ],
   "source": [
    "# Parent Class\n",
    "class Cars:\n",
    "    def __init__(self,color):\n",
    "        self.color=color\n",
    "        \n",
    "    def colors(self):\n",
    "        print(\"Color of car is\",self.color)\n",
    "\n",
    "# Child Class\n",
    "class Honda(Cars):\n",
    "    def __init__(self,color,model):\n",
    "        super().__init__(color)\n",
    "        self.model=model\n",
    "    \n",
    "    def Model(self):\n",
    "        print(\"Model of car is\",self.model)\n",
    "\n",
    "        \n",
    "car = Honda(\"Red\",\"Civic\")\n",
    "car.colors() # Child object inheriting colors() method from Parent class\n",
    "car.Model()"
   ]
  },
  {
   "cell_type": "markdown",
   "id": "076d043f-eea9-4443-ba04-999fef2b87c9",
   "metadata": {},
   "source": [
    "### Question No. 2\n",
    "Discuss the concept of single inheritance and multiple inheritance, highlighting their differences and advantages."
   ]
  },
  {
   "cell_type": "markdown",
   "id": "4e84ea45-b87a-4806-857d-98979db6218c",
   "metadata": {},
   "source": [
    "### Answer No. 2\n",
    "**Single Inheritence:** In single inheritence, the child class inherits properties from one parent class.<br>\n",
    "**Multiple Inheritence:** In multiple inheritence, the child class inherits properties from more than one parent classes."
   ]
  },
  {
   "cell_type": "markdown",
   "id": "cb6e236f-f420-48b9-b12b-a40f5b8ae194",
   "metadata": {},
   "source": [
    "### Question No. 3\n",
    "Explain the terms \"base class\" and \"derived class\" in the context of inheritance."
   ]
  },
  {
   "cell_type": "markdown",
   "id": "37aaa8ee-b419-49ae-a6db-b8a2bb641f26",
   "metadata": {},
   "source": [
    "### Answer No. 3\n",
    "In inheritence, base Class is the parent class whereas derived class is the child class that inherits attributes and methods from the base class. Derived class can have its own attributes and methods as well in addition to that of base class."
   ]
  },
  {
   "cell_type": "markdown",
   "id": "6e34654e-073a-4ae4-bb6c-a8b615f91a94",
   "metadata": {},
   "source": [
    "### Question No. 4\n",
    "What is the significance of the \"protected\" access modifier in inheritance? How does it differ from \"private\" and \"public\" modifiers?"
   ]
  },
  {
   "cell_type": "markdown",
   "id": "a5cceb6e-2c8a-455d-aaaf-5165344ffa54",
   "metadata": {},
   "source": [
    "### Answer No. 4\n",
    "**Public Access Modifiers:** In public, all the functions, variables, methods can be used publicly. Meaning, every other class can access them easily without any restriction. Public members are generally methods declared in a class that is accessible from outside the class. Any ordinary class is, by default, a public class.<br>\n",
    "**Protected Access Modifier:** In the case of a protected class, its members and functions can only be accessed by the classes derived from it, i.e., its child class or classes. No other environment is permitted to access it. To declare the data members as protected, we use a single underscore sign before the data members of the class.<br>\n",
    "**Private Access Modifier:** In the case of private access modifiers, the variables and functions can only be accessed within the class. The private restriction level is the highest for any class. To declare the data members as private, we use a double underscore “__” sign before the data members of the class."
   ]
  },
  {
   "cell_type": "markdown",
   "id": "b8a2055e-0271-49cb-a49a-22ffc93afdf6",
   "metadata": {},
   "source": [
    "### Question No. 5\n",
    "What is the purpose of the \"super\" keyword in inheritance? Provide an example."
   ]
  },
  {
   "cell_type": "markdown",
   "id": "6c043a10-4ad7-4097-938b-f40ebfe5a5ec",
   "metadata": {},
   "source": [
    "### Answer No. 5\n",
    "super() keyword is used for referring to parent class attributes while initializing child class objects with attributes."
   ]
  },
  {
   "cell_type": "code",
   "execution_count": 6,
   "id": "644e99b3-1600-4f8f-9030-0ef468297c91",
   "metadata": {},
   "outputs": [
    {
     "name": "stdout",
     "output_type": "stream",
     "text": [
      "Color of car is Red\n",
      "Model of car is Civic\n"
     ]
    }
   ],
   "source": [
    "# Parent Class\n",
    "class Cars:\n",
    "    def __init__(self,color):\n",
    "        self.color=color\n",
    "        \n",
    "    def colors(self):\n",
    "        print(\"Color of car is\",self.color)\n",
    "\n",
    "# Child Class\n",
    "class Honda(Cars):\n",
    "    def __init__(self,color,model):\n",
    "        super().__init__(color)\n",
    "        self.model=model\n",
    "    \n",
    "    def Model(self):\n",
    "        print(\"Model of car is\",self.model)\n",
    "\n",
    "        \n",
    "car = Honda(\"Red\",\"Civic\")\n",
    "car.colors() # Child object inheriting colors() method from Parent class\n",
    "car.Model()"
   ]
  },
  {
   "cell_type": "markdown",
   "id": "43e8b08c-ea0e-4706-8743-d6fe94c522a8",
   "metadata": {},
   "source": [
    "### Question No. 6\n",
    "Create a base class called \"Vehicle\" with attributes like \"make\", \"model\", and \"year\".\n",
    "Then, create a derived class called \"Car\" that inherits from \"Vehicle\" and adds an attribute called \"fuel_type\". Implement appropriate methods in both classes."
   ]
  },
  {
   "cell_type": "markdown",
   "id": "2684ece7-1e49-4a93-afcf-daf7a4114a6e",
   "metadata": {},
   "source": [
    "### Answer No. 6"
   ]
  },
  {
   "cell_type": "code",
   "execution_count": 13,
   "id": "9d9e1d24-52c4-40e1-912a-825c299905d6",
   "metadata": {},
   "outputs": [
    {
     "name": "stdout",
     "output_type": "stream",
     "text": [
      "Make: ABC Model: XYZ Year: 2019\n",
      "Fuel Type: Petrol\n"
     ]
    }
   ],
   "source": [
    "class Vehicle:\n",
    "    def __init__(self,make,model,year):\n",
    "        self.make=make\n",
    "        self.model=model\n",
    "        self.year=year\n",
    "        \n",
    "    def vehicle_info(self):\n",
    "        print(\"Make:\",self.make,\"Model:\",self.model,\"Year:\",self.year)\n",
    "        \n",
    "class Car(Vehicle):\n",
    "    def __init__(self,make,model,year,fuel_type):\n",
    "        super().__init__(make,model,year)\n",
    "        self.fuel_type=fuel_type\n",
    "        \n",
    "    def fueltype(self):\n",
    "        print(\"Fuel Type:\",self.fuel_type)\n",
    "        \n",
    "        \n",
    "cars = Car(\"ABC\",\"XYZ\",2019,\"Petrol\")\n",
    "cars.vehicle_info()\n",
    "cars.fueltype()"
   ]
  },
  {
   "cell_type": "markdown",
   "id": "b2b9d3a2-867b-47ac-9626-5175987797d1",
   "metadata": {},
   "source": [
    "### Question No. 7\n",
    "Create a base class called \"Employee\" with attributes like \"name\" and \"salary.\" Derive two classes, \"Manager\" and \"Developer,\" from \"Employee.\" Add an additional attribute called \"department\" for the \"Manager\" class and \"programming_language\" for the \"Developer\" class."
   ]
  },
  {
   "cell_type": "markdown",
   "id": "0f976e3b-a264-4c6d-871a-c6089286344b",
   "metadata": {},
   "source": [
    "### Answer No. 7"
   ]
  },
  {
   "cell_type": "code",
   "execution_count": 1,
   "id": "328831af-c8b5-4c3d-9a1b-2197bf10b9e0",
   "metadata": {},
   "outputs": [],
   "source": [
    "class Employee:\n",
    "    def __init__(self,name,salary):\n",
    "        self.name=name\n",
    "        self.salary=salary\n",
    "        \n",
    "class Manager(Employee):\n",
    "    def __init__(self,name,salary,department):\n",
    "        super().__init__(name,salary)\n",
    "        self.department=department\n",
    "        \n",
    "class Developer(Employee):\n",
    "    def __init__(self,name,salary,programming_language):\n",
    "        super().__init__(name,salary)\n",
    "        self.programming_language=programming_language"
   ]
  },
  {
   "cell_type": "markdown",
   "id": "9f54d0c6-ba87-427c-b139-9b9140ab0637",
   "metadata": {},
   "source": [
    "### Question No. 8\n",
    "Design a base class called \"Shape\" with attributes like \"colour\" and \"border_width.\"\n",
    "Create derived classes, \"Rectangle\" and \"Circle,\" that inherit from \"Shape\" and add\n",
    "specific attributes like \"length\" and \"width\" for the \"Rectangle\" class and \"radius\" for\n",
    "the \"Circle\" class."
   ]
  },
  {
   "cell_type": "markdown",
   "id": "8679f6eb-7de4-4aca-abcc-31a3d151ffd4",
   "metadata": {},
   "source": [
    "### Answer No. 8"
   ]
  },
  {
   "cell_type": "code",
   "execution_count": 2,
   "id": "9547ed31-39c0-4683-b377-371d0f070cec",
   "metadata": {},
   "outputs": [],
   "source": [
    "class Shape:\n",
    "    def __init__(self,color,border_width):\n",
    "        self.color=color\n",
    "        self.border_width=border_width\n",
    "        \n",
    "class Rectangle(Shape):\n",
    "    def __init__(self,color,border_width,length,width):\n",
    "        super().__init__(color,border_width)\n",
    "        self.length=length\n",
    "        self.width=width\n",
    "        \n",
    "class Circle(Shape):\n",
    "    def __init__(self,color,border_width,radius):\n",
    "        super().__init__(color,border_width)\n",
    "        self.radius=radius"
   ]
  },
  {
   "cell_type": "markdown",
   "id": "89c7f70d-f0a4-4e58-8753-db3328a45a7a",
   "metadata": {},
   "source": [
    "### Question No. 9\n",
    "Create a base class called \"Device\" with attributes like \"brand\" and \"model.\" Derive\n",
    "two classes, \"Phone\" and \"Tablet,\" from \"Device.\" Add specific attributes like\n",
    "\"screen_size\" for the \"Phone\" class and \"battery_capacity\" for the \"Tablet\" class."
   ]
  },
  {
   "cell_type": "markdown",
   "id": "2910cbdc-c747-41c1-b127-8186c5adde82",
   "metadata": {},
   "source": [
    "### Answer No. 9"
   ]
  },
  {
   "cell_type": "code",
   "execution_count": 3,
   "id": "76582cbd-640e-42d8-af4b-9674c6be977d",
   "metadata": {},
   "outputs": [],
   "source": [
    "class Device:\n",
    "    def __init__(self,brand,model):\n",
    "        self.brand=brand\n",
    "        self.model=model\n",
    "        \n",
    "class Phone(Device):\n",
    "    def __init__(self,brand,model,screen_size):\n",
    "        super().__init__(brand,model)\n",
    "        self.screen_size=screen_size\n",
    "        \n",
    "class Tablet(Device):\n",
    "    def __init__(self,brand,model,battery_capacity):\n",
    "        super().__init__(brand,model)\n",
    "        self.battery_capacity=battery_capacity\n",
    "        "
   ]
  },
  {
   "cell_type": "markdown",
   "id": "4c9d2a49-9b04-4bb3-a257-5c0c59bddfad",
   "metadata": {},
   "source": [
    "### Question No. 10\n",
    "Create a base class called \"BankAccount\" with attributes like \"account_number\" and\n",
    "\"balance.\" Derive two classes, \"SavingsAccount\" and \"CheckingAccount,\" from\n",
    "\"BankAccount.\" Add specific methods like \"calculate_interest\" for the\n",
    "\"SavingsAccount\" class and \"deduct_fees\" for the \"CheckingAccount\" class."
   ]
  },
  {
   "cell_type": "markdown",
   "id": "e5bd5c4c-0731-4ef2-acd4-e2d8b9305541",
   "metadata": {},
   "source": [
    "### Answer No. 10"
   ]
  },
  {
   "cell_type": "code",
   "execution_count": 16,
   "id": "8305c814-c8c8-4079-84be-d706776893dc",
   "metadata": {},
   "outputs": [
    {
     "name": "stdout",
     "output_type": "stream",
     "text": [
      "Interest: 4000.0\n",
      "Fees 100 deducted. Current balance is: 19900\n"
     ]
    }
   ],
   "source": [
    "class BankAccount:\n",
    "    def __init__(self,account_number,balance):\n",
    "        self.account_number=account_number\n",
    "        self.balance=balance\n",
    "        \n",
    "class SavingsAccount(BankAccount):\n",
    "    def __init__(self,account_number,balance):\n",
    "        super().__init__(account_number,balance)\n",
    "        \n",
    "    def calculate_interest(self, years):\n",
    "        print(\"Interest:\",(self.balance*0.1*years))\n",
    "              \n",
    "class CheckingAccount(BankAccount):\n",
    "    def __init__(self,account_number,balance):\n",
    "        super().__init__(account_number,balance)\n",
    "        \n",
    "    def deduct_fees(self, fees):\n",
    "        print(\"Fees\",fees,\"deducted. Current balance is:\",self.balance-fees)\n",
    "\n",
    "        \n",
    "account1 = SavingsAccount(\"AKLP99007663\",20000)\n",
    "account1.calculate_interest(2)\n",
    "\n",
    "account2 = CheckingAccount(\"AKLP99007663\",20000)\n",
    "account2.deduct_fees(100)"
   ]
  }
 ],
 "metadata": {
  "kernelspec": {
   "display_name": "Python 3 (ipykernel)",
   "language": "python",
   "name": "python3"
  },
  "language_info": {
   "codemirror_mode": {
    "name": "ipython",
    "version": 3
   },
   "file_extension": ".py",
   "mimetype": "text/x-python",
   "name": "python",
   "nbconvert_exporter": "python",
   "pygments_lexer": "ipython3",
   "version": "3.10.6"
  }
 },
 "nbformat": 4,
 "nbformat_minor": 5
}
