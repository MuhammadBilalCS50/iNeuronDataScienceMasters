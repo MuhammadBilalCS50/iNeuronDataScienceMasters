{
 "cells": [
  {
   "cell_type": "markdown",
   "id": "c0388336-32c7-47bb-acc4-cf49602e233b",
   "metadata": {},
   "source": [
    "### Question No. 1\n",
    "What is the role of try and exception block?"
   ]
  },
  {
   "cell_type": "markdown",
   "id": "2887f81a-96d7-4a08-b1fe-b444e8b7cad9",
   "metadata": {},
   "source": [
    "### Answer No. 1\n",
    "Try and Exception blocks are added in a program to capture anticipated runtime errors and specify more clear error messages to users to make debugging easier rather than throwing system generated cryptic errors to users.<br>\n",
    "Code in which we anticipate runtime errors is written in a Try block. Whereas, in the exception block, next steps are defined that will be executed as soon as the specified exception/runtime error occurs.<br>\n",
    "For example, in a function that takes two numbers from a user and returns their sum, there is a chance that user inputs a string rather than an number. Following program shows how we can use try and except blocks to capture this error:"
   ]
  },
  {
   "cell_type": "code",
   "execution_count": 29,
   "id": "448bc107-db71-44ac-bd0f-470c73e88f52",
   "metadata": {},
   "outputs": [
    {
     "name": "stdout",
     "output_type": "stream",
     "text": [
      "One input is string. Plese input both numbers\n",
      "Both inputs are strings. Plese input both numbers\n"
     ]
    }
   ],
   "source": [
    "def sum_num(a,b):\n",
    "    try:\n",
    "        return float(a+b)\n",
    "    #Exception for handling case of adding a numeric data type to a string data type\n",
    "    except TypeError:\n",
    "        print(\"One input is string. Plese input both numbers\")\n",
    "    #Exception for handling case of converting a string data type to float. If user inputs both strings, then + operator\n",
    "    #will concatenate them and return a string output. But converting string to float will results into error\n",
    "    except ValueError:\n",
    "        print(\"Both inputs are strings. Plese input both numbers\")\n",
    "\n",
    "sum_num(2,\"three\")\n",
    "sum_num(\"two\",\"three\")"
   ]
  },
  {
   "cell_type": "markdown",
   "id": "9d117446-3833-47ef-b080-210f22a92794",
   "metadata": {},
   "source": [
    "### Question No. 2\n",
    "What is the syntax for a basic try-except block?"
   ]
  },
  {
   "cell_type": "markdown",
   "id": "1f443b7a-ed4f-416b-a9c8-3557dca512b1",
   "metadata": {},
   "source": [
    "### Answer No. 2"
   ]
  },
  {
   "cell_type": "code",
   "execution_count": 17,
   "id": "1b3ccd39-059d-4a2c-8010-682cbdc67eb7",
   "metadata": {},
   "outputs": [],
   "source": [
    "#try:\n",
    "#    Code lines in which a runtime error is anticipated\n",
    "#except ErrorName:\n",
    "#    code that will be executed if the error specified i.e., ErrorName occurs during execution of try block"
   ]
  },
  {
   "cell_type": "markdown",
   "id": "b4c0e37c-7e75-4d5a-9b62-e62734e3c5d2",
   "metadata": {},
   "source": [
    "### Question No. 3\n",
    "What happens if an exception occurs inside a try block and there is no matching except block?"
   ]
  },
  {
   "cell_type": "markdown",
   "id": "568e5e0e-4417-4026-9180-a31d402e84c1",
   "metadata": {},
   "source": [
    "### Answer No. 3\n",
    "In that case, pyhton's cryptic or not so user-friendly error message will appear along with the error type and the entire code. This would not only be hard for end user to understand and debug but also in case where we have hundreds of lines of code, the user will be bombarded by the entire program on the screen.<br>\n",
    "Taking the same example discussed in Question 1. If we omit the ValueError, let's see what happens:"
   ]
  },
  {
   "cell_type": "code",
   "execution_count": 18,
   "id": "05d186b8-a80a-4d85-b969-9d8a42c1ce5c",
   "metadata": {},
   "outputs": [
    {
     "ename": "ValueError",
     "evalue": "could not convert string to float: 'twothree'",
     "output_type": "error",
     "traceback": [
      "\u001b[0;31m---------------------------------------------------------------------------\u001b[0m",
      "\u001b[0;31mValueError\u001b[0m                                Traceback (most recent call last)",
      "Cell \u001b[0;32mIn [18], line 8\u001b[0m\n\u001b[1;32m      5\u001b[0m     \u001b[38;5;28;01mexcept\u001b[39;00m \u001b[38;5;167;01mTypeError\u001b[39;00m:\n\u001b[1;32m      6\u001b[0m         \u001b[38;5;28mprint\u001b[39m(\u001b[38;5;124m\"\u001b[39m\u001b[38;5;124mOne input is string. Plese input both numbers\u001b[39m\u001b[38;5;124m\"\u001b[39m)\n\u001b[0;32m----> 8\u001b[0m \u001b[43msum_num\u001b[49m\u001b[43m(\u001b[49m\u001b[38;5;124;43m\"\u001b[39;49m\u001b[38;5;124;43mtwo\u001b[39;49m\u001b[38;5;124;43m\"\u001b[39;49m\u001b[43m,\u001b[49m\u001b[38;5;124;43m\"\u001b[39;49m\u001b[38;5;124;43mthree\u001b[39;49m\u001b[38;5;124;43m\"\u001b[39;49m\u001b[43m)\u001b[49m\n",
      "Cell \u001b[0;32mIn [18], line 3\u001b[0m, in \u001b[0;36msum_num\u001b[0;34m(a, b)\u001b[0m\n\u001b[1;32m      1\u001b[0m \u001b[38;5;28;01mdef\u001b[39;00m \u001b[38;5;21msum_num\u001b[39m(a,b):\n\u001b[1;32m      2\u001b[0m     \u001b[38;5;28;01mtry\u001b[39;00m:\n\u001b[0;32m----> 3\u001b[0m         \u001b[38;5;28;01mreturn\u001b[39;00m \u001b[38;5;28;43mfloat\u001b[39;49m\u001b[43m(\u001b[49m\u001b[43ma\u001b[49m\u001b[38;5;241;43m+\u001b[39;49m\u001b[43mb\u001b[49m\u001b[43m)\u001b[49m\n\u001b[1;32m      4\u001b[0m     \u001b[38;5;66;03m#Exception for handling case of adding a numeric data type to a string data type\u001b[39;00m\n\u001b[1;32m      5\u001b[0m     \u001b[38;5;28;01mexcept\u001b[39;00m \u001b[38;5;167;01mTypeError\u001b[39;00m:\n",
      "\u001b[0;31mValueError\u001b[0m: could not convert string to float: 'twothree'"
     ]
    }
   ],
   "source": [
    "def sum_num(a,b):\n",
    "    try:\n",
    "        return float(a+b)\n",
    "    #Exception for handling case of adding a numeric data type to a string data type\n",
    "    except TypeError:\n",
    "        print(\"One input is string. Plese input both numbers\")\n",
    "\n",
    "sum_num(\"two\",\"three\")"
   ]
  },
  {
   "cell_type": "markdown",
   "id": "8a2f4282-bdf6-4e9c-a2ab-565c803da9de",
   "metadata": {},
   "source": [
    "### Question No. 4\n",
    "What is the difference between using a bare except block and specifying a specific exception type?"
   ]
  },
  {
   "cell_type": "markdown",
   "id": "3412281d-e70e-425f-9af0-bd49e65e846a",
   "metadata": {},
   "source": [
    "### Answer No. 4\n",
    "A bare except block will execute the code specified in excpet block no matter what type of error has occurred. On the other hand, if an excpetion type is specified, then except block is only executed if that specific excption has occurred.<br>\n",
    "For example, in the program below, since ValueError has occurred instead of TypeError therefore, it's exception block is not executed:"
   ]
  },
  {
   "cell_type": "code",
   "execution_count": 22,
   "id": "f603e7f8-dfc0-4099-b4f1-c9dc3678cec1",
   "metadata": {},
   "outputs": [
    {
     "name": "stdout",
     "output_type": "stream",
     "text": [
      "Both inputs are strings. Plese input both numbers\n"
     ]
    }
   ],
   "source": [
    "def sum_num(a,b):\n",
    "    try:\n",
    "        return float(a+b)\n",
    "    #Exception for handling case of adding a numeric data type to a string data type\n",
    "    except TypeError:\n",
    "        print(\"One input is string. Plese input both numbers\")\n",
    "    except ValueError:\n",
    "        print(\"Both inputs are strings. Plese input both numbers\")\n",
    "\n",
    "sum_num(\"two\",\"three\")"
   ]
  },
  {
   "cell_type": "markdown",
   "id": "aad1e7cf-8218-45b8-a706-fb0268709c3f",
   "metadata": {},
   "source": [
    "However, a bare except block runs for any type of error:"
   ]
  },
  {
   "cell_type": "code",
   "execution_count": 25,
   "id": "7db0a992-ee73-4f91-b3d0-c4b6b25cb8dd",
   "metadata": {},
   "outputs": [
    {
     "name": "stdout",
     "output_type": "stream",
     "text": [
      "Error\n",
      "Error\n"
     ]
    }
   ],
   "source": [
    "def sum_num(a,b):\n",
    "    try:\n",
    "        return float(a+b)\n",
    "    except:\n",
    "        print(\"Error\")\n",
    "\n",
    "sum_num(\"two\",\"three\")\n",
    "sum_num(2,\"three\")"
   ]
  },
  {
   "cell_type": "markdown",
   "id": "9a250485-0330-4409-9d13-2f0e58a84b78",
   "metadata": {},
   "source": [
    "### Question No. 5\n",
    "Can you have nested try-except blocks in Python? If yes, then give an example."
   ]
  },
  {
   "cell_type": "markdown",
   "id": "69b9cbc4-543c-4ce1-af02-ff66139bdb84",
   "metadata": {},
   "source": [
    "### Answer No. 5\n",
    "Yes, we can have nested try-except block. See below example:"
   ]
  },
  {
   "cell_type": "code",
   "execution_count": 28,
   "id": "3934bab9-9b4e-4bfb-97a3-0d658c911a4a",
   "metadata": {},
   "outputs": [
    {
     "name": "stdout",
     "output_type": "stream",
     "text": [
      "Both inputs are strings. Plese input both numbers\n",
      "One input is string. Plese input both numbers\n"
     ]
    }
   ],
   "source": [
    "def sum_num(a,b):\n",
    "    try:\n",
    "        try:\n",
    "            return float(a+b)\n",
    "        #Exception for handling case of converting a string data type to float. If user inputs both strings, then + operator\n",
    "        #will concatenate them and return a string output. But converting string to float will results into error\n",
    "        except ValueError:\n",
    "            print(\"Both inputs are strings. Plese input both numbers\")\n",
    "    #Exception for handling case of adding a numeric data type to a string data type\n",
    "    except TypeError:\n",
    "        print(\"One input is string. Plese input both numbers\")\n",
    "\n",
    "sum_num(\"two\",\"three\")\n",
    "sum_num(2,\"three\")"
   ]
  },
  {
   "cell_type": "markdown",
   "id": "9ff47ffd-fdcf-426b-adf9-2a36bd645286",
   "metadata": {},
   "source": [
    "### Question No. 6\n",
    "Can we use multiple exception blocks, if yes then give an example."
   ]
  },
  {
   "cell_type": "markdown",
   "id": "e41a7edc-9b4c-4afd-9d75-9d8feb82c31c",
   "metadata": {},
   "source": [
    "### Answer No. 6"
   ]
  },
  {
   "cell_type": "code",
   "execution_count": 30,
   "id": "d62182ce-5a53-4c63-ae94-996a8c093edd",
   "metadata": {},
   "outputs": [
    {
     "name": "stdout",
     "output_type": "stream",
     "text": [
      "One input is string. Plese input both numbers\n",
      "Both inputs are strings. Plese input both numbers\n"
     ]
    }
   ],
   "source": [
    "def sum_num(a,b):\n",
    "    try:\n",
    "        return float(a+b)\n",
    "    #Exception for handling case of adding a numeric data type to a string data type\n",
    "    except TypeError:\n",
    "        print(\"One input is string. Plese input both numbers\")\n",
    "    #Exception for handling case of converting a string data type to float. If user inputs both strings, then + operator\n",
    "    #will concatenate them and return a string output. But converting string to float will results into error\n",
    "    except ValueError:\n",
    "        print(\"Both inputs are strings. Plese input both numbers\")\n",
    "\n",
    "sum_num(2,\"three\")\n",
    "sum_num(\"two\",\"three\")"
   ]
  },
  {
   "cell_type": "markdown",
   "id": "b072ddd5-c80f-4d34-804b-50cbd15b0051",
   "metadata": {},
   "source": [
    "### Question No. 7\n",
    "Write the reason due to which following errors are raised:<br>\n",
    "a. EOFError<br>\n",
    "b. FloatingPointError<br>\n",
    "c. IndexError<br>\n",
    "d. MemoryError<br>\n",
    "e. OverflowError<br>\n",
    "f. TabError<br>\n",
    "g. ValueError"
   ]
  },
  {
   "cell_type": "markdown",
   "id": "8e54c134-d2ed-468a-8a78-ef84be7b6c86",
   "metadata": {},
   "source": [
    "### Answer No. 7\n",
    "**EOFError**: EOFError is raised when the input() function hits the condition of end-of-file.<br>\n",
    "**FloatingPointError**: FloatingPointError is raised when a floating-point operation fails.<br>\n",
    "**IndexError**: Raised when index specified for calling a value in list/tuple does not exist.<br>\n",
    "**MemoryError**: MemoryError is raised when a program runs out of memory.<br>\n",
    "**OverflowError**: OverflowError is raised when the result of an arithmetic operation is too large.<br>\n",
    "**TabError**: TabError is raised when interpreter detects internal error.<br>\n",
    "**ValueError**: ValueError is raised when a function is given the correct type of argument but with an improper value."
   ]
  },
  {
   "cell_type": "markdown",
   "id": "335ee029-d497-4748-b1c2-56f2d3d1ccbb",
   "metadata": {},
   "source": [
    "### Question No. 8\n",
    "Write code for the following given scenario and add try-exception block to it.<br>\n",
    "a. Program to divide two numbers<br>\n",
    "b. Program to convert a string to an integer<br>\n",
    "c. Program to access an element in a list<br>\n",
    "d. Program to handle a specific exception<br>\n",
    "e. Program to handle any exception"
   ]
  },
  {
   "cell_type": "markdown",
   "id": "6cfd1464-fd6d-4d5e-a4cf-7d55b05c144f",
   "metadata": {},
   "source": [
    "### Answer No. 8"
   ]
  },
  {
   "cell_type": "code",
   "execution_count": 37,
   "id": "05ea3a51-9939-4e26-acc5-f817c4bba5ba",
   "metadata": {},
   "outputs": [
    {
     "name": "stdin",
     "output_type": "stream",
     "text": [
      "Enter the dividend:  2\n",
      "Enter the divisor:  0\n"
     ]
    },
    {
     "name": "stdout",
     "output_type": "stream",
     "text": [
      "divisor must be a non-zero value\n"
     ]
    }
   ],
   "source": [
    "# a. Program to divide two numbers\n",
    "a = float(input(\"Enter the dividend: \"))\n",
    "b = float(input(\"Enter the divisor: \"))\n",
    "try:\n",
    "    print(\"Result: \", a/b)\n",
    "except ZeroDivisionError:\n",
    "    print(\"divisor must be a non-zero value\")"
   ]
  },
  {
   "cell_type": "code",
   "execution_count": 38,
   "id": "adb7527a-c598-453f-8ae9-27d523da4b28",
   "metadata": {},
   "outputs": [
    {
     "name": "stdout",
     "output_type": "stream",
     "text": [
      "string cannot be converted to integer\n"
     ]
    }
   ],
   "source": [
    "# b. Program to convert a string to an integer\n",
    "string = \"ABC\"\n",
    "try:\n",
    "    integer = int(string)\n",
    "except ValueError:\n",
    "    print(\"string cannot be converted to integer\")"
   ]
  },
  {
   "cell_type": "code",
   "execution_count": 39,
   "id": "59000207-c881-49fc-ac1f-9d1fc21afea8",
   "metadata": {},
   "outputs": [
    {
     "name": "stdout",
     "output_type": "stream",
     "text": [
      "Incorrect index specified\n"
     ]
    }
   ],
   "source": [
    "# c. Program to access an element in a list\n",
    "list1 = [1,2,3]\n",
    "try:\n",
    "    a = list1[4]\n",
    "except IndexError:\n",
    "    print(\"Incorrect index specified\")"
   ]
  },
  {
   "cell_type": "code",
   "execution_count": 41,
   "id": "ce1a1daa-a5a9-42b2-961d-e1e43dd09755",
   "metadata": {},
   "outputs": [
    {
     "name": "stdout",
     "output_type": "stream",
     "text": [
      "Incorrect index specified\n"
     ]
    }
   ],
   "source": [
    "# d. Program to handle a specific exception\n",
    "list1 = [1,2,3]\n",
    "try:\n",
    "    a = list1[4]\n",
    "except IndexError:\n",
    "    print(\"Incorrect index specified\")"
   ]
  },
  {
   "cell_type": "code",
   "execution_count": 42,
   "id": "a5296b27-9f71-40e0-8d23-5f8b180fee2d",
   "metadata": {},
   "outputs": [
    {
     "name": "stdout",
     "output_type": "stream",
     "text": [
      "Error\n"
     ]
    }
   ],
   "source": [
    "# e. Program to handle any exception\n",
    "list1 = [1,2,3]\n",
    "try:\n",
    "    a = list1[4]\n",
    "except:\n",
    "    print(\"Error\")"
   ]
  }
 ],
 "metadata": {
  "kernelspec": {
   "display_name": "Python 3 (ipykernel)",
   "language": "python",
   "name": "python3"
  },
  "language_info": {
   "codemirror_mode": {
    "name": "ipython",
    "version": 3
   },
   "file_extension": ".py",
   "mimetype": "text/x-python",
   "name": "python",
   "nbconvert_exporter": "python",
   "pygments_lexer": "ipython3",
   "version": "3.10.6"
  }
 },
 "nbformat": 4,
 "nbformat_minor": 5
}
