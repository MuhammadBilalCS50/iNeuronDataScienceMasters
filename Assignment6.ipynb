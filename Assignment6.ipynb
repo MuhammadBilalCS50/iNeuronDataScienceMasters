{
 "cells": [
  {
   "cell_type": "markdown",
   "id": "3ad182bb-0f02-4a61-ad3b-cfeabb77b24c",
   "metadata": {},
   "source": [
    "### Question No. 1\n",
    "What are keywords in python? Using the keyword library, print all the python keywords.\n",
    "\n",
    "### Answer No. 1\n",
    "Keywords are reserved words whose definition and purpose has been defined by Python. These words are case sensitive and they cannot be used for any other purpose (like using them as variable) except for their pre-defined purpose. All keywords in Python can be seen using following code:"
   ]
  },
  {
   "cell_type": "code",
   "execution_count": 1,
   "id": "cc89ae25-6555-4b50-8261-4b4cd3b5d063",
   "metadata": {},
   "outputs": [
    {
     "name": "stdout",
     "output_type": "stream",
     "text": [
      "['False', 'None', 'True', 'and', 'as', 'assert', 'async', 'await', 'break', 'class', 'continue', 'def', 'del', 'elif', 'else', 'except', 'finally', 'for', 'from', 'global', 'if', 'import', 'in', 'is', 'lambda', 'nonlocal', 'not', 'or', 'pass', 'raise', 'return', 'try', 'while', 'with', 'yield']\n"
     ]
    }
   ],
   "source": [
    "import keyword\n",
    "print (keyword.kwlist)"
   ]
  },
  {
   "cell_type": "markdown",
   "id": "887ccb0a-68f7-46fa-9e24-48cb1866699b",
   "metadata": {},
   "source": [
    "### Question No. 2\n",
    "What are the rules to create variables in python?\n",
    "\n",
    "### Answer No. 2\n",
    "Following things should be kept in mind while defining variables:<br>\n",
    "1. Variables can be a combination of alphabets (both upper case and lower case), numbers and underscore(_)<br>\n",
    "2. Variables cannot begin with a number<br>\n",
    "3. No special character except underscore is allowed in variable name<br>\n",
    "4. No keywords can be used as variables<br>\n",
    "5. There is no restriction on length of variable<br>\n",
    "6. Variables are case-sensitive which means that 'name' and 'Name' are two different variables"
   ]
  },
  {
   "cell_type": "markdown",
   "id": "62305a22-8c30-4d19-9fc6-290c032332a4",
   "metadata": {},
   "source": [
    "### Question No. 3\n",
    "What are the standards and conventions followed for the nomenclature of variables in python to improve code readability and maintainability?\n",
    "\n",
    "### Answer No. 3\n",
    "Following things should be kept in mind while defining variables:<br>\n",
    "1. Variables can be a combination of alphabets (both upper case and lower case), numbers and underscore(_)<br>\n",
    "2. Variables cannot begin with a number<br>\n",
    "3. No special character except underscore is allowed in variable name<br>\n",
    "4. No keywords can be used as variables<br>\n",
    "5. There is no restriction on length of variable<br>\n",
    "6. Variables are case-sensitive which means that 'name' and 'Name' are two different variables<br>\n",
    "7. Variable names should be descriptive to help understand its usage and purpose"
   ]
  },
  {
   "cell_type": "markdown",
   "id": "9bca11df-fbeb-4861-9a28-5eaa565564b1",
   "metadata": {},
   "source": [
    "### Question No. 4\n",
    "What will happen if a keyword is used as a variable name?\n",
    "\n",
    "### Answer No. 4"
   ]
  },
  {
   "cell_type": "code",
   "execution_count": 3,
   "id": "5dbc1f3d-da12-49b8-89c6-aabf80ee790b",
   "metadata": {},
   "outputs": [
    {
     "ename": "SyntaxError",
     "evalue": "invalid syntax (1516762317.py, line 1)",
     "output_type": "error",
     "traceback": [
      "\u001b[0;36m  Cell \u001b[0;32mIn [3], line 1\u001b[0;36m\u001b[0m\n\u001b[0;31m    def=3\u001b[0m\n\u001b[0m       ^\u001b[0m\n\u001b[0;31mSyntaxError\u001b[0m\u001b[0;31m:\u001b[0m invalid syntax\n"
     ]
    }
   ],
   "source": [
    "def=3\n",
    "print (def)"
   ]
  },
  {
   "cell_type": "markdown",
   "id": "4688f770-2d72-49cc-818d-507be89a6485",
   "metadata": {},
   "source": [
    "### Question No. 5\n",
    "For what purpose def keyword is used?\n",
    "\n",
    "### Answer No. 5\n",
    "def keyword is used for defining functions in python. It's syntax is<br>\n",
    "def function_name(arguments)"
   ]
  },
  {
   "cell_type": "markdown",
   "id": "c2876777-1bbe-4939-849d-221a4c6625b0",
   "metadata": {},
   "source": [
    "### Question No. 6\n",
    "What is the operation of this special character ‘\\’?\n",
    "\n",
    "### Answer No. 6\n",
    "\\ is a line continuation character. It is used for writing multi-line statements so the statement can extend on several lines."
   ]
  },
  {
   "cell_type": "code",
   "execution_count": 6,
   "id": "eb31a4f8-5762-4d5f-8a39-bfc54ad81f4d",
   "metadata": {},
   "outputs": [
    {
     "name": "stdout",
     "output_type": "stream",
     "text": [
      "15\n"
     ]
    }
   ],
   "source": [
    "a=1+2+3\\\n",
    "+4+5\n",
    "print (a)"
   ]
  },
  {
   "cell_type": "markdown",
   "id": "4eb23884-0374-4328-93de-6e80b0ddc6c9",
   "metadata": {},
   "source": [
    "### Question No. 7\n",
    "Give an example of the following conditions:<br>\n",
    "(i) Homogeneous list<br>\n",
    "(ii) Heterogeneous set<br>\n",
    "(iii) Homogeneous tuple\n",
    "\n",
    "### Answer No. 7\n",
    "(i) Homogeneous list is a list having all elements of same data type. For example, list [1,2,3,4,5] has all numbers.<br>\n",
    "(ii) Hetrogeneous set is a set having elements of different data types. For example the set {1,2,3,'a','b'} has three number ( 1, 2 and 3) and two alphabets (a and b)<br>\n",
    "(iii) Homogeneous tuple is a tuple having all elements of same data type. For example, tuple ('a','b','c') has all alphabets."
   ]
  },
  {
   "cell_type": "markdown",
   "id": "967d12c4-e045-4523-9abb-88ffedc7c46d",
   "metadata": {},
   "source": [
    "### Question No. 8\n",
    "Explain the mutable and immutable data types with proper explanation & examples.\n",
    "\n",
    "### Answer No. 8\n",
    "Explaining the concept with the help of list and tuples. Lists are mutable objetcs, which means that their elements can be modified after they are defined. For Example:"
   ]
  },
  {
   "cell_type": "code",
   "execution_count": 7,
   "id": "4ed73c86-c9a5-4b81-99e1-ebe7d0f74002",
   "metadata": {},
   "outputs": [
    {
     "name": "stdout",
     "output_type": "stream",
     "text": [
      "[1, 2, 3, 4, 5]\n",
      "[8, 2, 3, 4, 5]\n"
     ]
    }
   ],
   "source": [
    "a=[1,2,3,4,5]\n",
    "print (a)\n",
    "a[0]=8 # replacing element on 0 index i.e., 1 by 8\n",
    "print (a)"
   ]
  },
  {
   "cell_type": "markdown",
   "id": "f438f358-6ed4-45c4-bfeb-03c745e76349",
   "metadata": {},
   "source": [
    "Tuples, on the other hand, are immutable objects which means that their elements cannot be modified once a tuple is defined. For example:"
   ]
  },
  {
   "cell_type": "code",
   "execution_count": 8,
   "id": "618dc639-e57f-4361-bd83-56a26f4b1699",
   "metadata": {},
   "outputs": [
    {
     "name": "stdout",
     "output_type": "stream",
     "text": [
      "(1, 2, 3, 4, 5)\n"
     ]
    },
    {
     "ename": "TypeError",
     "evalue": "'tuple' object does not support item assignment",
     "output_type": "error",
     "traceback": [
      "\u001b[0;31m---------------------------------------------------------------------------\u001b[0m",
      "\u001b[0;31mTypeError\u001b[0m                                 Traceback (most recent call last)",
      "Cell \u001b[0;32mIn [8], line 3\u001b[0m\n\u001b[1;32m      1\u001b[0m a\u001b[38;5;241m=\u001b[39m(\u001b[38;5;241m1\u001b[39m,\u001b[38;5;241m2\u001b[39m,\u001b[38;5;241m3\u001b[39m,\u001b[38;5;241m4\u001b[39m,\u001b[38;5;241m5\u001b[39m)\n\u001b[1;32m      2\u001b[0m \u001b[38;5;28mprint\u001b[39m (a)\n\u001b[0;32m----> 3\u001b[0m \u001b[43ma\u001b[49m\u001b[43m[\u001b[49m\u001b[38;5;241;43m0\u001b[39;49m\u001b[43m]\u001b[49m\u001b[38;5;241m=\u001b[39m\u001b[38;5;241m8\u001b[39m \u001b[38;5;66;03m# replacing element on 0 index i.e., 1 by 8\u001b[39;00m\n\u001b[1;32m      4\u001b[0m \u001b[38;5;28mprint\u001b[39m (a)\n",
      "\u001b[0;31mTypeError\u001b[0m: 'tuple' object does not support item assignment"
     ]
    }
   ],
   "source": [
    "a=(1,2,3,4,5)\n",
    "print (a)\n",
    "a[0]=8 # replacing element on 0 index i.e., 1 by 8\n",
    "print (a)"
   ]
  },
  {
   "attachments": {
    "9b04bc01-5220-44f1-a4a8-16f87e32160f.png": {
     "image/png": "[encoded data removed]"
    }
   },
   "cell_type": "markdown",
   "id": "d0534d7c-684d-4ca4-8d19-8b8dd7170a46",
   "metadata": {},
   "source": [
    "### Question No. 9\n",
    "Write a code to create the given structure using only for loop.<br>\n",
    "![image.png](attachment:9b04bc01-5220-44f1-a4a8-16f87e32160f.png)\n",
    "\n",
    "### Answer No. 9"
   ]
  },
  {
   "cell_type": "code",
   "execution_count": 8,
   "id": "dee5672a-fc1d-4b59-b28a-e190aaa2ae83",
   "metadata": {},
   "outputs": [
    {
     "name": "stdout",
     "output_type": "stream",
     "text": [
      "    *    \n",
      "   ***   \n",
      "  *****  \n",
      " ******* \n",
      "*********\n"
     ]
    }
   ],
   "source": [
    "a=4\n",
    "b=1\n",
    "for i in range(5):\n",
    "    for j in range(a):\n",
    "        print (' ',end='')\n",
    "    for k in range(b):\n",
    "        print ('*',end='')\n",
    "    for n in range(a):\n",
    "        print (' ',end='')\n",
    "    print()\n",
    "    a=a-1\n",
    "    b=b+2"
   ]
  },
  {
   "attachments": {
    "0eed1b4f-3525-445e-b78d-50c8f64822ec.png": {
     "image/png": "[encoded data removed]"
    }
   },
   "cell_type": "markdown",
   "id": "d53f98cf-a968-44ce-9370-82b15dff46c0",
   "metadata": {},
   "source": [
    "### Question No. 10\n",
    "Write a code to create the given structure using while loop.\n",
    "\n",
    "![image.png](attachment:0eed1b4f-3525-445e-b78d-50c8f64822ec.png)\n",
    "\n",
    "### Answer No. 10"
   ]
  },
  {
   "cell_type": "code",
   "execution_count": 3,
   "id": "22622faa-f653-47eb-a0dc-d90063df5606",
   "metadata": {},
   "outputs": [
    {
     "name": "stdout",
     "output_type": "stream",
     "text": [
      "|||||||||\n",
      " ||||||| \n",
      "  |||||  \n",
      "   |||   \n",
      "    |    \n"
     ]
    }
   ],
   "source": [
    "a=5\n",
    "b=9\n",
    "c=5\n",
    "i=1\n",
    "listodd=[7,5,3,1,0]\n",
    "while i <= 5:\n",
    "    while a <= 4:\n",
    "        print (' ',end='')\n",
    "        a=a+1\n",
    "    while b >= 1:\n",
    "        print ('|',end='')\n",
    "        b=b-1\n",
    "    while c <= 4:\n",
    "        print (' ',end='')\n",
    "        c=c+1\n",
    "    print()\n",
    "    a=a-i\n",
    "    c=c-i\n",
    "    b=listodd[i-1]\n",
    "    i=i+1"
   ]
  }
 ],
 "metadata": {
  "kernelspec": {
   "display_name": "Python 3 (ipykernel)",
   "language": "python",
   "name": "python3"
  },
  "language_info": {
   "codemirror_mode": {
    "name": "ipython",
    "version": 3
   },
   "file_extension": ".py",
   "mimetype": "text/x-python",
   "name": "python",
   "nbconvert_exporter": "python",
   "pygments_lexer": "ipython3",
   "version": "3.10.6"
  }
 },
 "nbformat": 4,
 "nbformat_minor": 5
}
