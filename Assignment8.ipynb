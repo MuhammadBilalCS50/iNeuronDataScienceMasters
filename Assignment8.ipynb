{
 "cells": [
  {
   "cell_type": "markdown",
   "id": "199a379b-cf19-4d76-93b8-149c2bccde2e",
   "metadata": {},
   "source": [
    "### Question No. 1\n",
    "In Python, what is the difference between a built-in function and a user-defined function? Provide an example of each."
   ]
  },
  {
   "cell_type": "markdown",
   "id": "f565ab84-5363-4436-a572-9a6aee4a61c5",
   "metadata": {},
   "source": [
    "### Answer No. 1\n",
    "Built-in functions are the functions that readily come in Python whereas User-defined functions are those which we define ourselves. For Example,<br>\n",
    "int() is a built-in function that is ready to use and is used for converting its argument's data type to integer<br>\n",
    "We can define a function add(a,b) that will take two numbers as arguments and return their sum. It can be defined as follows:"
   ]
  },
  {
   "cell_type": "code",
   "execution_count": 1,
   "id": "1f09dcc2-3aff-4efb-bceb-1ca6c5149192",
   "metadata": {},
   "outputs": [],
   "source": [
    "def add(a,b):\n",
    "    return a+b"
   ]
  },
  {
   "cell_type": "markdown",
   "id": "229150da-e567-40dc-8661-17712625fedc",
   "metadata": {},
   "source": [
    "### Question No. 2\n",
    "How can you pass arguments to a function in Python? Explain the difference between positional arguments and keyword arguments."
   ]
  },
  {
   "cell_type": "markdown",
   "id": "7c2c31d4-9e41-475c-9060-a59a466822aa",
   "metadata": {},
   "source": [
    "**Positional Arguments:** Positional arguments are those arguments whose position while passing in the function determines the output of function and therefore it's important to determine their position while passing in the function. For example, complex() function in Python takes two numbers as arguments and returns an imaginary number based on the position of those arguments. Argument on first position becomes real part and argument passed on second position becomes imaginary part of complex number. See below:"
   ]
  },
  {
   "cell_type": "code",
   "execution_count": 2,
   "id": "907fbb75-1425-46d2-8a29-8a4d2e979f70",
   "metadata": {},
   "outputs": [
    {
     "data": {
      "text/plain": [
       "(2+3j)"
      ]
     },
     "execution_count": 2,
     "metadata": {},
     "output_type": "execute_result"
    }
   ],
   "source": [
    "complex(2,3)"
   ]
  },
  {
   "cell_type": "code",
   "execution_count": 3,
   "id": "3c12298d-cff4-4244-aff2-01aec35df30e",
   "metadata": {},
   "outputs": [
    {
     "data": {
      "text/plain": [
       "(3+2j)"
      ]
     },
     "execution_count": 3,
     "metadata": {},
     "output_type": "execute_result"
    }
   ],
   "source": [
    "complex(3,2)"
   ]
  },
  {
   "cell_type": "markdown",
   "id": "1e76a59c-5992-4e07-9a52-38240333eb6b",
   "metadata": {},
   "source": [
    "**Keyword Arguments:** Keyword arguments are those where value of argument is preceded by a keyword and an equal sign. For example, complex() function of Python can also take keyword arguments as <br>"
   ]
  },
  {
   "cell_type": "code",
   "execution_count": 5,
   "id": "33ccd34f-59cf-4fe0-ab5c-9f4960a8b438",
   "metadata": {},
   "outputs": [
    {
     "data": {
      "text/plain": [
       "(2+3j)"
      ]
     },
     "execution_count": 5,
     "metadata": {},
     "output_type": "execute_result"
    }
   ],
   "source": [
    "complex(real=2, imag=3)"
   ]
  },
  {
   "cell_type": "markdown",
   "id": "56233a2a-44b0-495f-85fc-2a7d67249d84",
   "metadata": {},
   "source": [
    "### Question No. 3\n",
    "What is the purpose of the return statement in a function? Can a function have multiple return statements? Explain with an example."
   ]
  },
  {
   "cell_type": "markdown",
   "id": "3dccdaca-18f0-4ea6-915c-4386dd50e7e3",
   "metadata": {},
   "source": [
    "### Answer No. 3\n",
    "A return statement is used to end the execution of the function call and “returns” the result (value of the expression following the return keyword) to the caller. The statements after the return statements are not executed.<br>\n",
    "A function can have multiple return statements in the case when execution of each statement depends on a condition. For example, following function greater() has three return stetment but execution of each is followed by a condition:"
   ]
  },
  {
   "cell_type": "code",
   "execution_count": 2,
   "id": "c289ab07-87c9-466e-b4bf-08a389e1801e",
   "metadata": {},
   "outputs": [],
   "source": [
    "def greater(a,b):\n",
    "    if a > b:\n",
    "        return a\n",
    "    elif b > a:\n",
    "        return b\n",
    "    else:\n",
    "        return None"
   ]
  },
  {
   "cell_type": "markdown",
   "id": "3f004268-d1be-41cf-b3c9-f99f061761f4",
   "metadata": {},
   "source": [
    "### Question No. 4\n",
    "What are lambda functions in Python? How are they different from regular functions? Provide an example where a lambda function can be useful."
   ]
  },
  {
   "cell_type": "markdown",
   "id": "9ac33db7-999d-4732-9b6e-b152d87acd7a",
   "metadata": {},
   "source": [
    "### Answer No. 4\n",
    "lambda functions also known as Anonymous functions are used for simple use cases that involve single line expressions. They are different from user-defined functions in that they do not have a name and they are not able to execute complex if-else and for/while loop expressions.<br>\n",
    "lambda functions are defined as follows:<br>\n",
    "<br>\n",
    "*lambda argument: expression*<br>\n",
    "<br>\n",
    "where<br>\n",
    "lambda is the keyword indicting the lambda function<br>\n",
    "argument is the variable presenting argument of function<br>\n",
    "expression is the expression to executed<br>\n",
    "See the lambda function below for returning a value twice the argument:"
   ]
  },
  {
   "cell_type": "code",
   "execution_count": 1,
   "id": "8ef5e326-f1d7-4cf8-8209-10e627ab32e5",
   "metadata": {},
   "outputs": [
    {
     "data": {
      "text/plain": [
       "<function __main__.<lambda>(x)>"
      ]
     },
     "execution_count": 1,
     "metadata": {},
     "output_type": "execute_result"
    }
   ],
   "source": [
    "lambda x: x*2"
   ]
  },
  {
   "cell_type": "markdown",
   "id": "86f8996d-88c2-442a-b47d-0d162adda742",
   "metadata": {},
   "source": [
    "Since, lambda functions have no name therefore, they are called as follows:"
   ]
  },
  {
   "cell_type": "code",
   "execution_count": 2,
   "id": "051846d4-fcd7-47b4-aee3-8fc42ecc2d18",
   "metadata": {},
   "outputs": [
    {
     "data": {
      "text/plain": [
       "6"
      ]
     },
     "execution_count": 2,
     "metadata": {},
     "output_type": "execute_result"
    }
   ],
   "source": [
    "(lambda x: x*2) (3)"
   ]
  },
  {
   "cell_type": "markdown",
   "id": "80932430-0ea1-4235-98bb-eb7fd2544dc0",
   "metadata": {},
   "source": [
    "### Question No. 5\n",
    "How does the concept of \"scope\" apply to functions in Python? Explain the difference between local scope and global scope."
   ]
  },
  {
   "cell_type": "markdown",
   "id": "a482b60f-d6dc-42eb-afdc-7d00019dd00f",
   "metadata": {},
   "source": [
    "### Answer No. 5\n",
    "Scope in Python defines the area of code where a name such as variable is defined. If a variable is defined in an area where it can be accessed from anywhere in the code then, tha area is a global scope and variables defined in that area are global variables. On the other hand, if a variable is defined in an area where it can only be accessed within that particular area such as within a function the, that area is known as local scope and variables defines there are local variables."
   ]
  },
  {
   "cell_type": "markdown",
   "id": "e10b30b1-e3a8-4162-a556-36d9ca9a26c1",
   "metadata": {},
   "source": [
    "### Question No. 6\n",
    "How can you use the \"return\" statement in a Python function to return multiple values?"
   ]
  },
  {
   "cell_type": "markdown",
   "id": "696f26a2-524f-4d46-804c-8af8ebd04a3e",
   "metadata": {},
   "source": [
    "### Answer No. 6\n",
    "Multiple values can be retruned using a single return statement separated by commas. For Example, following function returns a string \"abc\" and an integer 10."
   ]
  },
  {
   "cell_type": "code",
   "execution_count": 2,
   "id": "e28c0390-fc1f-433a-8374-3717dc4f4956",
   "metadata": {},
   "outputs": [
    {
     "data": {
      "text/plain": [
       "('abc', 10)"
      ]
     },
     "execution_count": 2,
     "metadata": {},
     "output_type": "execute_result"
    }
   ],
   "source": [
    "def multiple_return():\n",
    "    return \"abc\", 10\n",
    "\n",
    "multiple_return()"
   ]
  },
  {
   "cell_type": "markdown",
   "id": "2d0c3214-bcf3-4903-8d22-aad3e59aa9ba",
   "metadata": {},
   "source": [
    "### Question No. 7\n",
    "What is the difference between the \"pass by value\" and \"pass by reference\" concepts when it comes to function arguments in Python?"
   ]
  },
  {
   "cell_type": "markdown",
   "id": "2e06f134-67d1-4857-bc1c-e31b29d378f9",
   "metadata": {},
   "source": [
    "### Answer No. 7\n",
    "**Pass By Value:** Function arguments whose data type is immutable are passed in functions as per Pass by value concept. According to this concept, since the argument is immutable so the result of changes applied on the argument within the function is stored in a different memory location and the argument's original value remains intact in the original memory location. See the example below:"
   ]
  },
  {
   "cell_type": "code",
   "execution_count": 1,
   "id": "2a729528-f762-4116-860c-8c5fd3e307f3",
   "metadata": {},
   "outputs": [
    {
     "name": "stdout",
     "output_type": "stream",
     "text": [
      "Value of a before passing it to function:  10\n",
      "Value of a inside function:  20\n",
      "Value of a after passing it to function:  10\n"
     ]
    }
   ],
   "source": [
    "def change(a):\n",
    "    a = a+10\n",
    "    print (\"Value of a inside function: \", a)\n",
    "    \n",
    "a = 10\n",
    "print(\"Value of a before passing it to function: \", a)\n",
    "change(a)\n",
    "print(\"Value of a after passing it to function: \", a)"
   ]
  },
  {
   "cell_type": "markdown",
   "id": "e082afc1-bece-4086-91bb-6637f5be7cc9",
   "metadata": {},
   "source": [
    "Value of a is initially declared as 10 in main program. When a is passed into the function and function tried to change its value, since integer data type is immutable which means that value of a cannot be changed therefore, python created a new variable a and stored the new value 20 in it. That is the reason why value of original a is still 10."
   ]
  },
  {
   "cell_type": "markdown",
   "id": "b62a70af-5c55-424d-90ef-25c008d0d046",
   "metadata": {},
   "source": [
    "**Pass By Reference:** Function arguments whose data type is mutable are passed in functions as per Pass by reference concept. According to this concept, since the argument is mutable so the result of changes applied on the argument within the function is stored in the same memory location and the argument's original value is changed in the original memory location. See the example below:"
   ]
  },
  {
   "cell_type": "code",
   "execution_count": 2,
   "id": "bfd7951d-8a4f-449c-bce4-b8ca6b00e433",
   "metadata": {},
   "outputs": [
    {
     "name": "stdout",
     "output_type": "stream",
     "text": [
      "Value of a before passing it to function:  [10]\n",
      "Value of a inside function:  [20]\n",
      "Value of a after passing it to function:  [20]\n"
     ]
    }
   ],
   "source": [
    "def change(a):\n",
    "    a[0] = a[0]+10\n",
    "    print (\"Value of a inside function: \", a)\n",
    "    \n",
    "a = [10]\n",
    "print(\"Value of a before passing it to function: \", a)\n",
    "change(a)\n",
    "print(\"Value of a after passing it to function: \", a)"
   ]
  },
  {
   "cell_type": "markdown",
   "id": "47ec57cb-ee50-4eca-a5ac-882df4a1accc",
   "metadata": {},
   "source": [
    "Value of a[0] is initially declared as 10 in main program. When a is passed into the function and function tried to change its value, since list data type is mutable which means that value of a can be changed therefore, python stored the new value 20 in it. That is the reason why value of original a[0] is changed to 20."
   ]
  },
  {
   "cell_type": "markdown",
   "id": "7744693d-f6c3-4c75-a437-b60af967d7dd",
   "metadata": {},
   "source": [
    "### Question No. 8\n",
    "Create a function that can intake integer or decimal value and do following operations:<br>\n",
    "a. Logarithmic function (log x)<br>\n",
    "b. Exponential function (exp(x))<br>\n",
    "c. Power function with base 2 (2^x)<br>\n",
    "d. Square root"
   ]
  },
  {
   "cell_type": "code",
   "execution_count": 6,
   "id": "36efefd1-0a54-4702-bd26-7ac9ff53084b",
   "metadata": {},
   "outputs": [
    {
     "name": "stdout",
     "output_type": "stream",
     "text": [
      "log of 10 is: 2.302585092994046\n",
      "exponent raise to the power 10 is: 22026.398664167056\n",
      "2 raise to the power 10 is: 1024\n",
      "Square root of 10 is:  3.1622776601683795\n"
     ]
    }
   ],
   "source": [
    "def func(x):\n",
    "    import math\n",
    "    print(\"log of\", x, \"is:\", math.log(x))\n",
    "    print(\"exponent raise to the power\", x, \"is:\", 2.718281**x)\n",
    "    print(\"2 raise to the power\", x, \"is:\", 2**x)\n",
    "    print(\"Square root of\", x, \"is: \", math.sqrt(x))\n",
    " \n",
    "func(10)    "
   ]
  },
  {
   "cell_type": "markdown",
   "id": "686fca62-0deb-413c-9b18-230531fa1e5f",
   "metadata": {},
   "source": [
    "### Question No. 9\n",
    "Create a function that takes a full name as an argument and returns first name and last name."
   ]
  },
  {
   "cell_type": "markdown",
   "id": "8c0b7885-63d4-4c09-bc6b-aac81bcc4ef8",
   "metadata": {},
   "source": [
    "### Answer No. 9"
   ]
  },
  {
   "cell_type": "code",
   "execution_count": 10,
   "id": "294fb0a4-7117-4ace-9e83-bbdf0b0d1ce0",
   "metadata": {},
   "outputs": [
    {
     "name": "stdout",
     "output_type": "stream",
     "text": [
      "First Name: Muhammad\n",
      "Last Name: Bilal\n"
     ]
    }
   ],
   "source": [
    "def name(a):\n",
    "    first, last = a.split(\" \")\n",
    "    print(\"First Name:\", first)\n",
    "    print(\"Last Name:\", last)\n",
    "    \n",
    "name(\"Muhammad Bilal\")"
   ]
  },
  {
   "cell_type": "code",
   "execution_count": null,
   "id": "502f749f-1a8e-4d13-853e-661858ba800f",
   "metadata": {},
   "outputs": [],
   "source": []
  }
 ],
 "metadata": {
  "kernelspec": {
   "display_name": "Python 3 (ipykernel)",
   "language": "python",
   "name": "python3"
  },
  "language_info": {
   "codemirror_mode": {
    "name": "ipython",
    "version": 3
   },
   "file_extension": ".py",
   "mimetype": "text/x-python",
   "name": "python",
   "nbconvert_exporter": "python",
   "pygments_lexer": "ipython3",
   "version": "3.10.6"
  }
 },
 "nbformat": 4,
 "nbformat_minor": 5
}
