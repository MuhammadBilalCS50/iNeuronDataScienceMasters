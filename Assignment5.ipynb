{
 "cells": [
  {
   "cell_type": "markdown",
   "id": "8a54c000-6bb0-4e20-ad9c-cea729c3b0f0",
   "metadata": {},
   "source": [
    "### Question No. 1\n",
    "What does an empty dictionary&#39;s code look like?\n",
    "\n",
    "### Answer No. 1\n",
    "clear() function isused for removing the contents of dictionary thus leaving it empty"
   ]
  },
  {
   "cell_type": "code",
   "execution_count": 1,
   "id": "f55e42a2-cb7b-447e-9140-0803749ea9b3",
   "metadata": {},
   "outputs": [
    {
     "name": "stdout",
     "output_type": "stream",
     "text": [
      "{}\n"
     ]
    }
   ],
   "source": [
    "d1={'name':'John','age':'23','city':'New York'}\n",
    "d1.clear()\n",
    "print (d1)"
   ]
  },
  {
   "cell_type": "markdown",
   "id": "cf9e482a-0aaa-4b75-988e-a6d8a2d6d606",
   "metadata": {},
   "source": [
    "### Question No. 2\n",
    "What is the value of a dictionary value with the key &#39;foo&#39; and the value 42?\n",
    "\n",
    "### Answer No. 2\n",
    "Keys and Values in a dictionary can be returned by functions keys() and values() respectively. See below code:"
   ]
  },
  {
   "cell_type": "code",
   "execution_count": 4,
   "id": "323e424b-ac16-46e6-99fc-8d836f1cabf2",
   "metadata": {},
   "outputs": [
    {
     "name": "stdout",
     "output_type": "stream",
     "text": [
      "dict_keys(['foo'])\n",
      "dict_values(['42'])\n"
     ]
    }
   ],
   "source": [
    "d1={'foo':'42'}\n",
    "print (d1.keys())\n",
    "print (d1.values())"
   ]
  },
  {
   "cell_type": "markdown",
   "id": "e7c508ff-07f2-464a-b356-18299d2486ff",
   "metadata": {},
   "source": [
    "### Question No. 3\n",
    "What is the most significant distinction between a dictionary and a list?\n",
    "\n",
    "### Answer No. 3\n",
    "The major distinction between a dictionary and a list is how the values in both objects are identified. Each list value has an index that acts as its unique ID and is used to return that particular value. On the other hand, each dictionary value has a key that acts as its unique ID. See the example below:"
   ]
  },
  {
   "cell_type": "code",
   "execution_count": 5,
   "id": "05fedad1-0015-4e1b-8c1d-b0adcf030c8a",
   "metadata": {},
   "outputs": [
    {
     "name": "stdout",
     "output_type": "stream",
     "text": [
      "John\n",
      "John\n"
     ]
    }
   ],
   "source": [
    "d1={'name':'John','age':'23','city':'New York'}\n",
    "list1=['John','23','New York']\n",
    "print (d1['name']) #For returning John from dictionary, its key i.e., name has been passed\n",
    "print (list1[0]) #For returning John from list, its index i.e., 0 has been passed"
   ]
  },
  {
   "cell_type": "markdown",
   "id": "b0320187-e621-4263-8c9c-d4c01d39170d",
   "metadata": {},
   "source": [
    "### Question No. 4\n",
    "What happens if you try to access spam[&#39;foo&#39;] if spam is {&#39;bar&#39;: 100}?\n",
    "\n",
    "### Answer No. 4\n",
    "Since, key 'foo' does not exist in the dictionary, key error would be returned"
   ]
  },
  {
   "cell_type": "code",
   "execution_count": 8,
   "id": "56076e4a-bc31-496c-aedb-1925ee4344be",
   "metadata": {},
   "outputs": [
    {
     "ename": "KeyError",
     "evalue": "'foo'",
     "output_type": "error",
     "traceback": [
      "\u001b[0;31m---------------------------------------------------------------------------\u001b[0m",
      "\u001b[0;31mKeyError\u001b[0m                                  Traceback (most recent call last)",
      "Cell \u001b[0;32mIn [8], line 2\u001b[0m\n\u001b[1;32m      1\u001b[0m spam\u001b[38;5;241m=\u001b[39m{\u001b[38;5;124m'\u001b[39m\u001b[38;5;124mbar\u001b[39m\u001b[38;5;124m'\u001b[39m:\u001b[38;5;124m'\u001b[39m\u001b[38;5;124m100\u001b[39m\u001b[38;5;124m'\u001b[39m}\n\u001b[0;32m----> 2\u001b[0m \u001b[43mspam\u001b[49m\u001b[43m[\u001b[49m\u001b[38;5;124;43m'\u001b[39;49m\u001b[38;5;124;43mfoo\u001b[39;49m\u001b[38;5;124;43m'\u001b[39;49m\u001b[43m]\u001b[49m\n",
      "\u001b[0;31mKeyError\u001b[0m: 'foo'"
     ]
    }
   ],
   "source": [
    "spam={'bar':'100'}\n",
    "spam['foo']"
   ]
  },
  {
   "cell_type": "markdown",
   "id": "bf2d1ec0-0f4d-458a-b67c-e98caadc41e7",
   "metadata": {},
   "source": [
    "### Question No. 5\n",
    "If a dictionary is stored in spam, what is the difference between the expressions &#39;cat&#39; in spam and\n",
    "&#39;cat&#39; in spam.keys()?\n",
    "\n",
    "### Answer No. 5\n",
    "Expression ['cat' in spam] checks for the entity 'cat' in both keys and values of dictionary spam. On the other hand, expression ['cat' in spam.keys()] checks for 'cat' in only keys of dictionary spam"
   ]
  },
  {
   "cell_type": "code",
   "execution_count": 9,
   "id": "4e7e652a-7f4e-4184-bc7e-66de7c15f411",
   "metadata": {},
   "outputs": [
    {
     "name": "stdout",
     "output_type": "stream",
     "text": [
      "True\n",
      "True\n"
     ]
    }
   ],
   "source": [
    "spam={'cat':'100'}\n",
    "print ('cat' in spam)\n",
    "print ('cat' in spam.keys())"
   ]
  },
  {
   "cell_type": "markdown",
   "id": "e9f12bfb-17b0-480f-949b-76f706e4ac8a",
   "metadata": {},
   "source": [
    "### Question No. 6\n",
    "If a dictionary is stored in spam, what is the difference between the expressions &#39;cat&#39; in spam and\n",
    "&#39;cat&#39; in spam.values()?\n",
    "\n",
    "### Answer No. 6\n",
    "Expression ['cat' in spam] checks for the entity 'cat' in both keys and values of dictionary spam. On the other hand, expression ['cat' in spam.values()] checks for 'cat' in only values of dictionary spam"
   ]
  },
  {
   "cell_type": "code",
   "execution_count": 10,
   "id": "bc75d378-f821-4c1e-b198-d01035549401",
   "metadata": {},
   "outputs": [
    {
     "name": "stdout",
     "output_type": "stream",
     "text": [
      "True\n",
      "False\n"
     ]
    }
   ],
   "source": [
    "spam={'cat':'100'}\n",
    "print ('cat' in spam)\n",
    "print ('cat' in spam.values())"
   ]
  },
  {
   "cell_type": "markdown",
   "id": "d207eb6a-6709-49a0-be94-0f9c7b023287",
   "metadata": {},
   "source": [
    "### Question No. 7\n",
    "What is a shortcut for the following code?\n",
    "if &#39;color&#39; not in spam:\n",
    "spam[&#39;color&#39;] = &#39;black&#39;\n",
    "\n",
    "### Answer No. 7"
   ]
  },
  {
   "cell_type": "code",
   "execution_count": 17,
   "id": "ca528a3c-e9d0-4c9c-8992-4fdc40e17bd8",
   "metadata": {},
   "outputs": [
    {
     "name": "stdout",
     "output_type": "stream",
     "text": [
      "{'cat': '100', 'color': 'black'}\n"
     ]
    }
   ],
   "source": [
    "spam={'cat':'100'}\n",
    "spam['color']='black' if 'color' not in spam else print(spam)\n",
    "print (spam)"
   ]
  },
  {
   "cell_type": "markdown",
   "id": "fdba8b57-0a71-437d-bbda-ed9bae588284",
   "metadata": {},
   "source": [
    "### Question No. 8\n",
    "How do you &quot;pretty print&quot; dictionary values using which module and function?\n",
    "\n",
    "### Answer No. 8"
   ]
  },
  {
   "cell_type": "code",
   "execution_count": 18,
   "id": "593ffcbb-829d-4e7d-8660-d6f8f41199b2",
   "metadata": {},
   "outputs": [
    {
     "name": "stdout",
     "output_type": "stream",
     "text": [
      "{'age': 31,\n",
      " 'books': ['Harry Potter', 'Lord of the Rings'],\n",
      " 'gender': 'male',\n",
      " 'name': 'Nik'}\n"
     ]
    }
   ],
   "source": [
    "# Pretty Print a Dictionary using pprint library\n",
    "import pprint\n",
    "\n",
    "sample_dict = {'name': 'Nik', 'age': 31, 'gender': 'male', 'books': ['Harry Potter', 'Lord of the Rings']}\n",
    "pprint.pprint(sample_dict)"
   ]
  }
 ],
 "metadata": {
  "kernelspec": {
   "display_name": "Python 3 (ipykernel)",
   "language": "python",
   "name": "python3"
  },
  "language_info": {
   "codemirror_mode": {
    "name": "ipython",
    "version": 3
   },
   "file_extension": ".py",
   "mimetype": "text/x-python",
   "name": "python",
   "nbconvert_exporter": "python",
   "pygments_lexer": "ipython3",
   "version": "3.10.6"
  }
 },
 "nbformat": 4,
 "nbformat_minor": 5
}
