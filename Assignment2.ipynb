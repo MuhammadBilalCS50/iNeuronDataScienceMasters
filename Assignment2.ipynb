{
 "cells": [
  {
   "cell_type": "markdown",
   "id": "b85c531c-7f5b-4772-86e0-a4bc652779cb",
   "metadata": {},
   "source": [
    "### Question No. 1\n",
    "What are the two values of the Boolean data type? How do you write them?"
   ]
  },
  {
   "cell_type": "markdown",
   "id": "05041d48-74b5-4cf4-a281-f587b5c1e83c",
   "metadata": {},
   "source": [
    "### Answer No. 1\n",
    "TRUE and FALSE are the two values of Boolean data type"
   ]
  },
  {
   "cell_type": "markdown",
   "id": "77f6410f-6f0b-48a6-bfd1-d49cd5e1a990",
   "metadata": {},
   "source": [
    "### Question No. 2\n",
    "What are the three different types of Boolean operators?"
   ]
  },
  {
   "cell_type": "markdown",
   "id": "5d56ca9b-7c94-41b2-8199-971be792bf19",
   "metadata": {},
   "source": [
    "### Answer No. 2\n",
    "AND, OR and NOT are the three different types of Boolean operators"
   ]
  },
  {
   "cell_type": "markdown",
   "id": "6fa79822-d184-4aba-af83-85bf2ff9a1f1",
   "metadata": {},
   "source": [
    "### Question No. 3\n",
    "Make a list of each Boolean operator&#39;s truth tables (i.e. every possible combination of Boolean values for the operator and what it evaluate )."
   ]
  },
  {
   "cell_type": "markdown",
   "id": "5d1a8aac-4061-41fe-9057-5d8c0d38bd9b",
   "metadata": {},
   "source": [
    "### Answer No. 3\n",
    "AND Truth Table<br>\n",
    "TRUE AND TRUE = TRUE<br>\n",
    "TRUE AND FALSE = FALSE<br>\n",
    "FALSE AND TRUE = FALSE<br>\n",
    "FALSE AND FALSE = FALSE<br>\n",
    "<br>\n",
    "OR Truth Table<br>\n",
    "TRUE OR TRUE = TRUE<br>\n",
    "TRUE OR FALSE = TRUE<br>\n",
    "FALSE OR TRUE = TRUE<br>\n",
    "FALSE OR FALSE = FALSE<br>\n",
    "<br>\n",
    "NOT Truth Table<br>\n",
    "NOT TRUE = FALSE<br>\n",
    "NOT FALSE = TRUE"
   ]
  },
  {
   "cell_type": "markdown",
   "id": "315f32de-7c41-43b3-8c80-796e8ebcc1bf",
   "metadata": {},
   "source": [
    "### Question No. 4\n",
    "What are the values of the following expressions?<br>\n",
    "(5 &gt; 4) and (3 == 5)<br>\n",
    "not (5 &gt; 4)<br>\n",
    "(5 &gt; 4) or (3 == 5)<br>\n",
    "not ((5 &gt; 4) or (3 == 5))<br>\n",
    "(True and True) and (True == False)<br>\n",
    "(not False) or (not True)"
   ]
  },
  {
   "cell_type": "markdown",
   "id": "f214c92e-7725-4ad2-8ec5-d20b7dd9b704",
   "metadata": {},
   "source": [
    "### Answer No. 4"
   ]
  },
  {
   "cell_type": "code",
   "execution_count": 3,
   "id": "c531f266-5004-47f9-b4e1-3417dce34ae1",
   "metadata": {},
   "outputs": [
    {
     "name": "stdout",
     "output_type": "stream",
     "text": [
      "(5 > 4) and (3 == 5) = False\n",
      "not (5 > 4) = False\n",
      "(5 > 4) or (3 == 5) = True\n",
      "not ((5 > 4) or (3 == 5)) = False\n",
      "(True and True) and (True == False) = False\n",
      "(not False) or (not True) = True\n"
     ]
    }
   ],
   "source": [
    "print(\"(5 > 4) and (3 == 5) =\", (5 > 4) and (3 == 5))\n",
    "print(\"not (5 > 4) =\", not (5 > 4))\n",
    "print(\"(5 > 4) or (3 == 5) =\", (5 > 4) or (3 == 5))\n",
    "print(\"not ((5 > 4) or (3 == 5)) =\", not ((5 > 4) or (3 == 5)))\n",
    "print(\"(True and True) and (True == False) =\", (True and True) and (True == False))\n",
    "print(\"(not False) or (not True) =\", (not False) or (not True))"
   ]
  },
  {
   "cell_type": "markdown",
   "id": "6ae9ae73-ed6b-464b-8c47-a777754dcf16",
   "metadata": {},
   "source": [
    "### Question No. 5\n",
    "What are the six comparison operators?"
   ]
  },
  {
   "cell_type": "markdown",
   "id": "dad00b29-bf32-4c93-acf5-189d2a2354bb",
   "metadata": {},
   "source": [
    "### Answer No. 5\n",
    "Equal To (==)<br>\n",
    "Not Equal To (!=)<br>\n",
    "Greater Than (>)<br>\n",
    "Greater Than or Equal To (>=)<br>\n",
    "Less Than (<)<br>\n",
    "Less Than or Equal To (<=)"
   ]
  },
  {
   "cell_type": "markdown",
   "id": "c73be80b-7386-4c3c-a1e7-e5df86aee417",
   "metadata": {},
   "source": [
    "### Question No. 6\n",
    "How do you tell the difference between the equal to and assignment operators? Describe a condition and when you would use one."
   ]
  },
  {
   "cell_type": "markdown",
   "id": "765f7b7b-1fef-4138-84e7-73e10512adfc",
   "metadata": {},
   "source": [
    "### Answer No. 6\n",
    "**Equal To:** Equal To (==) is a comparison operator that compares operands and if they are equal, return TRUE otherwise returns FALSE<br>\n",
    "**Assignment Opertaor:** Assignment operator (=) is used for assigning a value to a variable."
   ]
  },
  {
   "cell_type": "markdown",
   "id": "fe0c046e-8240-466d-bc3a-c9d1022ac3c1",
   "metadata": {},
   "source": [
    "### Question No. 7\n",
    "Identify the three blocks in this code:<br>\n",
    "spam = 0<br>\n",
    "if spam == 10:<br>\n",
    "print(&#39;eggs&#39;)<br>\n",
    "if spam &gt; 5:<br>\n",
    "print(&#39;bacon&#39;)<br>\n",
    "else:<br>\n",
    "print(&#39;ham&#39;)<br>\n",
    "print(&#39;spam&#39;)<br>\n",
    "print(&#39;spam&#39;)"
   ]
  },
  {
   "cell_type": "markdown",
   "id": "aa60d56f-2598-414b-95dd-8a250078e3f1",
   "metadata": {},
   "source": [
    "### Answer No. 7\n",
    "Line 1-10 is first block<br>\n",
    "Line 2-10 is second block<br>\n",
    "Line 4-10 is third block"
   ]
  },
  {
   "cell_type": "markdown",
   "id": "92dd7c38-cf06-42a0-b512-afc0aaeb7880",
   "metadata": {},
   "source": [
    "### Question No. 8\n",
    "Write code that prints Hello if 1 is stored in spam, prints Howdy if 2 is stored in spam, and prints Greetings! if anything else is stored in spam."
   ]
  },
  {
   "cell_type": "code",
   "execution_count": 1,
   "id": "5a617a45-13e3-4a13-a30e-dfc22fbd2598",
   "metadata": {},
   "outputs": [
    {
     "name": "stdin",
     "output_type": "stream",
     "text": [
      " 3\n"
     ]
    },
    {
     "name": "stdout",
     "output_type": "stream",
     "text": [
      "Greetings!\n"
     ]
    }
   ],
   "source": [
    "spam = input()\n",
    "if spam == 1:\n",
    "    print(\"Hello\")\n",
    "elif spam == 2:\n",
    "    print(\"Howdy\")\n",
    "else:\n",
    "    print(\"Greetings!\")"
   ]
  },
  {
   "cell_type": "markdown",
   "id": "18505021-e1c5-47f7-9de2-eb77fcfa89e0",
   "metadata": {},
   "source": [
    "### Question No. 9\n",
    "If your programme is stuck in an endless loop, what keys you’ll press?"
   ]
  },
  {
   "cell_type": "markdown",
   "id": "d1243060-ed22-4b93-8c41-fb034ca5b644",
   "metadata": {},
   "source": [
    "### Answer No. 9\n",
    "Ctrl + C is used for breaking an endless loop"
   ]
  },
  {
   "cell_type": "markdown",
   "id": "bc5d2a2e-b12b-4dcd-bcdd-5418a02f3e2a",
   "metadata": {},
   "source": [
    "### Question No. 10\n",
    "How can you tell the difference between break and continue?"
   ]
  },
  {
   "cell_type": "markdown",
   "id": "c7ad581e-00ab-404a-b988-e80607699ef1",
   "metadata": {},
   "source": [
    "### Answer No. 10\n"
   ]
  },
  {
   "cell_type": "markdown",
   "id": "6a06d7b5-a33d-40a8-85ef-d0f576830534",
   "metadata": {},
   "source": [
    "**Break:** Break statement is used for breaking out of a loop before a pre-defined number of iterations are completed<br>\n",
    "**Continue:** Continue statement is used to jump to next iteration by skipping the code after it"
   ]
  },
  {
   "cell_type": "markdown",
   "id": "3c3d94a4-2c2f-4677-b533-620714dbb508",
   "metadata": {},
   "source": [
    "### Question No. 11\n",
    "In a for loop, what is the difference between range(10), range(0, 10), and range(0, 10, 1)?"
   ]
  },
  {
   "cell_type": "markdown",
   "id": "e1e83a3b-43f6-4051-94ac-5c97d48d9964",
   "metadata": {},
   "source": [
    "### Answer No. 11\n",
    "range() function has syntax range(start, stop, step) where:<br>\n",
    "start: is the number from where to start. Default is 0<br>\n",
    "stop: is the number where to stop (number itself is not included)<br>\n",
    "step: is the increment/difference between consecutive numbers. Default is 1<br>\n",
    "<br>\n",
    "Therefore, range(10), range(0,10) and range(0,10,1) are same since default values for start and step are 0 and 1 respectively."
   ]
  },
  {
   "cell_type": "markdown",
   "id": "8b0cc0e6-f95f-4174-a347-7e7b3d92a21f",
   "metadata": {},
   "source": [
    "### Question No. 12\n",
    "Write a short program that prints the numbers 1 to 10 using a for loop. Then write an equivalent program that prints the numbers 1 to 10 using a while loop."
   ]
  },
  {
   "cell_type": "markdown",
   "id": "0e59a280-1631-4f39-ac43-82d5791d1671",
   "metadata": {},
   "source": [
    "### Answer No. 12"
   ]
  },
  {
   "cell_type": "code",
   "execution_count": 9,
   "id": "d26da2e2-66ee-42b6-a24a-3fcf395a49a0",
   "metadata": {},
   "outputs": [
    {
     "name": "stdout",
     "output_type": "stream",
     "text": [
      "Printing using For loop\n",
      "1\n",
      "2\n",
      "3\n",
      "4\n",
      "5\n",
      "6\n",
      "7\n",
      "8\n",
      "9\n",
      "10\n",
      "Printing using While loop\n",
      "1\n",
      "2\n",
      "3\n",
      "4\n",
      "5\n",
      "6\n",
      "7\n",
      "8\n",
      "9\n",
      "10\n"
     ]
    }
   ],
   "source": [
    "# For loop\n",
    "print(\"Printing using For loop\")\n",
    "for i in range(1,11):\n",
    "    print(i)\n",
    "\n",
    "# While loop\n",
    "print(\"Printing using While loop\")\n",
    "i=1\n",
    "while i <= 10:\n",
    "    print(i)\n",
    "    i += 1"
   ]
  },
  {
   "cell_type": "markdown",
   "id": "6d098a4f-8983-49f7-a4ac-d2e07afaf988",
   "metadata": {},
   "source": [
    "### Question No. 13\n",
    "If you had a function named bacon() inside a module named spam, how would you call it after importing spam?"
   ]
  },
  {
   "cell_type": "markdown",
   "id": "159b7ec2-6d88-40ce-b4cd-53a35e3ba076",
   "metadata": {},
   "source": [
    "### Answer No. 13\n",
    "This function can be called with spam.bacon()"
   ]
  }
 ],
 "metadata": {
  "kernelspec": {
   "display_name": "Python 3 (ipykernel)",
   "language": "python",
   "name": "python3"
  },
  "language_info": {
   "codemirror_mode": {
    "name": "ipython",
    "version": 3
   },
   "file_extension": ".py",
   "mimetype": "text/x-python",
   "name": "python",
   "nbconvert_exporter": "python",
   "pygments_lexer": "ipython3",
   "version": "3.10.6"
  }
 },
 "nbformat": 4,
 "nbformat_minor": 5
}
