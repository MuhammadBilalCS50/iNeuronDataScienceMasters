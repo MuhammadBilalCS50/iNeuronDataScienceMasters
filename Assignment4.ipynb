{
 "cells": [
  {
   "cell_type": "markdown",
   "id": "7ba060bc-10b0-460c-8641-d84648f34868",
   "metadata": {},
   "source": [
    "### Question No. 1\n",
    "What exactly is []?\n",
    "\n",
    "### Answer No. 1\n",
    "[] are brackets and are used for enclosing entities to create a list in Python. List in Python is equivalent to arrays in other programming languages."
   ]
  },
  {
   "cell_type": "markdown",
   "id": "d019e2d3-6ee7-4854-9505-9622321856c4",
   "metadata": {},
   "source": [
    "### Question No. 2\n",
    "In a list of values stored in a variable called spam, how would you assign the value &#39;hello&#39; as the third value? (Assume [2, 4, 6, 8, 10] are in spam.)\n",
    "\n",
    "### Answer No. 2"
   ]
  },
  {
   "cell_type": "code",
   "execution_count": 1,
   "id": "48066a50-1652-40c1-a216-8003e6fe9c87",
   "metadata": {},
   "outputs": [
    {
     "name": "stdout",
     "output_type": "stream",
     "text": [
      "[2, 4, 'hello', 8, 10]\n"
     ]
    }
   ],
   "source": [
    "spam=[2,4,6,8,10]\n",
    "spam[2]='hello'\n",
    "print (spam)"
   ]
  },
  {
   "cell_type": "markdown",
   "id": "fcbde07b-c19c-49c2-bc85-b2cd78c2e7a2",
   "metadata": {},
   "source": [
    "### Question No. 3\n",
    "What is the value of spam[int(int(&#39;3&#39; * 2) / 11)]?\n",
    "\n",
    "### Answer No. 3\n",
    "'3'*2 ---> Evaluates to '33'<br>\n",
    "int('33') ---> Converts string '33' into integer 33<br>\n",
    "33/11 ---> Evaluates to 3<br>\n",
    "int(3) ---> converts 3 into integer<br>\n",
    "spam[3] ---> Returns the fourth value in list spam as indices begins from 0 so index 3 represents fourth value in list"
   ]
  },
  {
   "cell_type": "code",
   "execution_count": 2,
   "id": "43f55415-bcdb-4b95-8d2c-988328688252",
   "metadata": {},
   "outputs": [
    {
     "name": "stdout",
     "output_type": "stream",
     "text": [
      "d\n"
     ]
    }
   ],
   "source": [
    "spam=['a','b','c','d']\n",
    "print (spam[int(int('3'*2)/11)])"
   ]
  },
  {
   "cell_type": "markdown",
   "id": "a1f7da81-b8a1-4e78-91bc-d7c16f2331b8",
   "metadata": {},
   "source": [
    "### Question No. 4\n",
    "What is the value of spam[-1]?\n",
    "\n",
    "### Answer No. 4\n",
    "Negative indexing is used for slicing list from the end. In the list spam, first list value from end is 'd' so, the result would be 'd'"
   ]
  },
  {
   "cell_type": "code",
   "execution_count": 3,
   "id": "aee3e477-2f7d-4171-9ca6-e0499470c7af",
   "metadata": {},
   "outputs": [
    {
     "name": "stdout",
     "output_type": "stream",
     "text": [
      "d\n"
     ]
    }
   ],
   "source": [
    "spam=['a','b','c','d']\n",
    "print (spam[-1])"
   ]
  },
  {
   "cell_type": "markdown",
   "id": "bfac19cc-0671-4c70-9cb1-97d84b6f1c83",
   "metadata": {},
   "source": [
    "### Question No. 5\n",
    "What is the value of spam[:2]?\n",
    "\n",
    "### Answer No. 5\n",
    "List indexing has the syntax: list[start:stop:step] where 'start' is the index from where to start and result would contain values upto index 'stop - 1' by skipping 'step'.<br>\n",
    "spam[:2] ---> returns list from start upto index 2-1=1 i.e., return values at indices 0 and 1"
   ]
  },
  {
   "cell_type": "code",
   "execution_count": 4,
   "id": "2525af24-1ec1-4a11-b860-44a4779872fc",
   "metadata": {},
   "outputs": [
    {
     "name": "stdout",
     "output_type": "stream",
     "text": [
      "['a', 'b']\n"
     ]
    }
   ],
   "source": [
    "spam=['a','b','c','d']\n",
    "print (spam[:2])"
   ]
  },
  {
   "cell_type": "markdown",
   "id": "1393efe1-727e-4916-9980-eed8785806b4",
   "metadata": {},
   "source": [
    "### Question No. 6\n",
    "What is the value of bacon.index(&#39;cat&#39;)?\n",
    "\n",
    "### Answer No. 6\n",
    "Returns the index of list element. In current example since index of 'cat' is 1 so, it returns 1"
   ]
  },
  {
   "cell_type": "code",
   "execution_count": 8,
   "id": "6dac45c2-88bf-4d94-ab15-a4e56d10e31b",
   "metadata": {},
   "outputs": [
    {
     "data": {
      "text/plain": [
       "1"
      ]
     },
     "execution_count": 8,
     "metadata": {},
     "output_type": "execute_result"
    }
   ],
   "source": [
    "bacon=[3.14, 'cat', 11, 'cat', True]\n",
    "bacon.index('cat')"
   ]
  },
  {
   "cell_type": "markdown",
   "id": "99850d62-b504-489c-ba06-c39afdd74eb0",
   "metadata": {},
   "source": [
    "### Question No. 7\n",
    "How does bacon.append(99) change the look of the list value in bacon?\n",
    "\n",
    "### Answer No. 7\n",
    "This would append/join/add 99 at the end of the list"
   ]
  },
  {
   "cell_type": "code",
   "execution_count": 12,
   "id": "c14a5144-5fb1-420b-8d79-d05df074c052",
   "metadata": {},
   "outputs": [
    {
     "name": "stdout",
     "output_type": "stream",
     "text": [
      "[3.14, 'cat', 11, 'cat', True, 99]\n"
     ]
    }
   ],
   "source": [
    "bacon=[3.14, 'cat', 11, 'cat', True]\n",
    "bacon.append(99)\n",
    "print (bacon)"
   ]
  },
  {
   "cell_type": "markdown",
   "id": "7f8d5a59-9d0b-47fb-98b6-eace44a6850b",
   "metadata": {},
   "source": [
    "### Question No. 8\n",
    "How does bacon.remove(&#39;cat&#39;) change the look of the list in bacon?\n",
    "\n",
    "### Answer No. 8\n",
    "Removes first 'cat' from the list"
   ]
  },
  {
   "cell_type": "code",
   "execution_count": 13,
   "id": "744fb6ad-3dfa-44f9-ad0e-f5783af3e2c5",
   "metadata": {},
   "outputs": [
    {
     "name": "stdout",
     "output_type": "stream",
     "text": [
      "[3.14, 11, 'cat', True]\n"
     ]
    }
   ],
   "source": [
    "bacon=[3.14, 'cat', 11, 'cat', True]\n",
    "bacon.remove('cat')\n",
    "print (bacon)"
   ]
  },
  {
   "cell_type": "markdown",
   "id": "b74aa967-1bc4-4eac-8c9a-2523ce2ae13c",
   "metadata": {},
   "source": [
    "### Question No. 9\n",
    "What are the list concatenation and list replication operators?\n",
    "\n",
    "### Answer No. 9\n",
    "**List Concatenation Operator:** + operator is used for concatenating lists. When + appears between two lists, the expression will be evaluated as a new list that contains the elements from both lists. The elements in the list on the left of + will appear first, and the elements on the right will appear last.<br>\n",
    "\n",
    "**List Replication Operator:** * is the List Replication Operartor. When * appears between a list and an integer, the expression will be evaluated as a new list that consists of several copies of the original list concatenated together. The number of copies is set by the integer."
   ]
  },
  {
   "cell_type": "code",
   "execution_count": 14,
   "id": "f383d983-3ff2-426d-ac5e-b7231ee71efb",
   "metadata": {},
   "outputs": [
    {
     "name": "stdout",
     "output_type": "stream",
     "text": [
      "[1, 2, 3, 4, 5, 6]\n",
      "[1, 2, 3, 1, 2, 3, 1, 2, 3]\n"
     ]
    }
   ],
   "source": [
    "list1=[1,2,3]\n",
    "list2=[4,5,6]\n",
    "print(list1+list2)\n",
    "print(list1*3)"
   ]
  },
  {
   "cell_type": "markdown",
   "id": "98c7ff31-f85b-49b7-a331-54d54bb22b03",
   "metadata": {},
   "source": [
    "### Question No. 10\n",
    "What is difference between the list methods append() and insert()?\n",
    "\n",
    "## Answer No. 10\n",
    "The difference between the two methods is that .append() adds an item to the end of a list, whereas .insert() inserts and item in a specified position in the list. In the example below, 4 is being added at the end of two lists using these two methods"
   ]
  },
  {
   "cell_type": "code",
   "execution_count": 19,
   "id": "b26bc912-c830-4023-8abc-761c968cb476",
   "metadata": {},
   "outputs": [
    {
     "name": "stdout",
     "output_type": "stream",
     "text": [
      "[1, 2, 3, 4]\n",
      "[1, 2, 3, 4]\n"
     ]
    }
   ],
   "source": [
    "list1=[1,2,3]\n",
    "list2=[1,2,3]\n",
    "list1.append(4)\n",
    "list2.insert(3,4)\n",
    "print (list1)\n",
    "print (list2)"
   ]
  },
  {
   "cell_type": "markdown",
   "id": "68c1a5d1-8258-4ab1-8483-1cbfc025a669",
   "metadata": {},
   "source": [
    "### Question No. 11\n",
    "What are the two methods for removing items from a list?\n",
    "\n",
    "### Answer No. 11\n",
    "The methods are remove() and pop(). remove() helps to remove the very first given element matching from the list. The pop() method removes an element from the list based on the index given. In the example below, last element is being removed from the two lists using these two methods"
   ]
  },
  {
   "cell_type": "code",
   "execution_count": 21,
   "id": "b82ce349-cdf8-4cbe-9374-8daad671a35f",
   "metadata": {},
   "outputs": [
    {
     "name": "stdout",
     "output_type": "stream",
     "text": [
      "[1, 2]\n",
      "[1, 2]\n"
     ]
    }
   ],
   "source": [
    "list1=[1,2,3]\n",
    "list2=[1,2,3]\n",
    "list1.remove(3)\n",
    "list2.pop(2)\n",
    "print (list1)\n",
    "print (list2)"
   ]
  },
  {
   "cell_type": "markdown",
   "id": "fc4a1583-8c73-4067-8eee-348a959f8edc",
   "metadata": {},
   "source": [
    "### Question No. 12\n",
    "Describe how list values and string values are identical.\n",
    "\n",
    "### Answer No. 12\n",
    "A string is basically a collection or array of characters just like a list is a collection of elements. All the operators for indexing and slicing lists can be used on strings."
   ]
  },
  {
   "cell_type": "markdown",
   "id": "d6dfc16a-104e-4e5f-b18f-1efa59565a73",
   "metadata": {},
   "source": [
    "### Question No. 13\n",
    "What&#39;s the difference between tuples and lists?\n",
    "\n",
    "### Answer No. 13\n",
    "**Lists:** Lists are collection of items similar to arrays in other programming languages. They are defined by enclosing element in brackets []. Lists are mutable, which means that their element can be modified once list is created. Lists support slicing and indexing.<br>\n",
    "**Tuples:** Tuples are also collection of elements in an array. They are defined by enclosing elements in paranthesis (). Tuples are immutable, which means that their elements cannot be modified once a tuple is created. Tuples support slicing and indexing."
   ]
  },
  {
   "cell_type": "markdown",
   "id": "610bbaa4-c665-45cb-8004-517d922bfdfa",
   "metadata": {},
   "source": [
    "### Question No. 14\n",
    "How do you type a tuple value that only contains the integer 42?\n",
    "\n",
    "### Answer No. 14"
   ]
  },
  {
   "cell_type": "code",
   "execution_count": 6,
   "id": "faf3c929-c521-4dbc-9f39-4c0de8e8e10f",
   "metadata": {},
   "outputs": [
    {
     "name": "stdout",
     "output_type": "stream",
     "text": [
      "42\n"
     ]
    }
   ],
   "source": [
    "tuple42=(42)\n",
    "print (tuple42)"
   ]
  },
  {
   "cell_type": "markdown",
   "id": "921f0519-66e5-4243-b40e-256fcbb0d6ec",
   "metadata": {},
   "source": [
    "### Question No. 15\n",
    "How do you get a list value&#39;s tuple form? How do you get a tuple value&#39;s list form?\n",
    "\n",
    "### Answer No. 15\n",
    "List can be converted to tuple using tuple() function by passing list as the argument of function. Whereas, tuple can be converted to list using list() function by passing tuple as the argument of function"
   ]
  },
  {
   "cell_type": "code",
   "execution_count": 8,
   "id": "b0ab7c31-7338-4b0b-ae59-2d5c4bfc316d",
   "metadata": {},
   "outputs": [
    {
     "name": "stdout",
     "output_type": "stream",
     "text": [
      "(1, 2, 3)\n",
      "[4, 5, 6]\n"
     ]
    }
   ],
   "source": [
    "#Converting list to tuple\n",
    "list1=[1,2,3]\n",
    "tuple1=tuple(list1)\n",
    "print (tuple1)\n",
    "#Converting tuple to list\n",
    "tuple2=(4,5,6)\n",
    "list2=list(tuple2)\n",
    "print (list2)"
   ]
  },
  {
   "cell_type": "markdown",
   "id": "07f09d6f-8bb2-450f-bc51-4c84347c25c3",
   "metadata": {},
   "source": [
    "### Question No. 16\n",
    "Variables that &quot;contain&quot; list values are not necessarily lists themselves. Instead, what do they\n",
    "contain?\n",
    "\n",
    "### Answer No. 16\n",
    "When a list is assigned to a variable, the list is not stored in variable instead, a reference to the list is stored. In the example below, a list [1,2,3] is assigned to a variable list1, then another variable list2 is equated with list1 so that both are now referring to same list. Now, when list2 is modified only, both the variables are representing modified list since both were referring to same list."
   ]
  },
  {
   "cell_type": "code",
   "execution_count": 9,
   "id": "a5c473e8-0e08-40a1-b307-3c1947cd8890",
   "metadata": {},
   "outputs": [
    {
     "name": "stdout",
     "output_type": "stream",
     "text": [
      "[9, 2, 3]\n",
      "[9, 2, 3]\n"
     ]
    }
   ],
   "source": [
    "list1=[1,2,3]\n",
    "list2=list1\n",
    "list2[0]=9\n",
    "print (list1)\n",
    "print (list2)"
   ]
  },
  {
   "cell_type": "markdown",
   "id": "b9750839-df15-479f-87e1-40dd9e2fcaf5",
   "metadata": {},
   "source": [
    "### Question No. 17\n",
    "How do you distinguish between copy.copy() and copy.deepcopy()?\n",
    "\n",
    "### Answer No. 17\n",
    "copy.copy() is used for making a duplicate of list not just the reference of list so that original list could remain intact. copy.deepcopy() in addition allows for copying lists within a list."
   ]
  },
  {
   "cell_type": "code",
   "execution_count": 2,
   "id": "29dbbc36-6673-4ff5-9d0f-88bc4e249ab7",
   "metadata": {},
   "outputs": [
    {
     "name": "stdout",
     "output_type": "stream",
     "text": [
      "[1, 2, 3]\n",
      "[9, 2, 3]\n"
     ]
    }
   ],
   "source": [
    "import copy\n",
    "list1=[1,2,3]\n",
    "list2=copy.copy(list1)\n",
    "list2[0]=9\n",
    "print (list1)\n",
    "print (list2)"
   ]
  },
  {
   "cell_type": "code",
   "execution_count": 3,
   "id": "85b96dc2-ab4c-4ea8-a3bd-93569ffd9b4a",
   "metadata": {},
   "outputs": [
    {
     "name": "stdout",
     "output_type": "stream",
     "text": [
      "[1, 2, 3, [4, 5, 6]]\n",
      "[1, 2, 3, [3, 6, 7]]\n"
     ]
    }
   ],
   "source": [
    "list1=[1,2,3,[4,5,6]]\n",
    "list2=copy.deepcopy(list1)\n",
    "list2[3]=[3,6,7]\n",
    "print (list1)\n",
    "print (list2)"
   ]
  }
 ],
 "metadata": {
  "kernelspec": {
   "display_name": "Python 3 (ipykernel)",
   "language": "python",
   "name": "python3"
  },
  "language_info": {
   "codemirror_mode": {
    "name": "ipython",
    "version": 3
   },
   "file_extension": ".py",
   "mimetype": "text/x-python",
   "name": "python",
   "nbconvert_exporter": "python",
   "pygments_lexer": "ipython3",
   "version": "3.10.6"
  }
 },
 "nbformat": 4,
 "nbformat_minor": 5
}
