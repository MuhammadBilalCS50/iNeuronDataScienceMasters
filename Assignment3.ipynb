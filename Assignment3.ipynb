{
 "cells": [
  {
   "cell_type": "markdown",
   "id": "c992147f-efc2-4431-9725-fe70b1da4582",
   "metadata": {},
   "source": [
    "### Question No. 1\n",
    "Why are functions advantageous to have in your programs?"
   ]
  },
  {
   "cell_type": "markdown",
   "id": "91b99992-3437-47fc-bc04-3b382326a5fd",
   "metadata": {},
   "source": [
    "### Answer No. 1\n",
    "A funtion is basically a block of code that can be called anytime, anywhere within the main code by calling function's name. Therefore, it's benificial to make function of a block of code that is expected to be used frequently in main code as it would both reduce the effort of writing that block again and again and shorten the lines of code."
   ]
  },
  {
   "cell_type": "markdown",
   "id": "c395695b-e4e1-4e0c-8e61-ae58a2dd3cc0",
   "metadata": {},
   "source": [
    "### Question No. 2\n",
    "When does the code in a function run: when it&#39;s specified or when it&#39;s called?"
   ]
  },
  {
   "cell_type": "markdown",
   "id": "377b0ccb-0c29-4ca3-9eb8-aabb482c2704",
   "metadata": {},
   "source": [
    "### Answer No. 2\n",
    "Code in a function runs when function is called."
   ]
  },
  {
   "cell_type": "markdown",
   "id": "ed1dc819-7d42-438f-999a-e871e5a04ccf",
   "metadata": {},
   "source": [
    "### Question No. 3\n",
    "What statement creates a function?"
   ]
  },
  {
   "cell_type": "markdown",
   "id": "f1bade4a-4e42-43a6-8afb-d82b25782559",
   "metadata": {},
   "source": [
    "### Answer No. 3\n",
    "def statement creates a function."
   ]
  },
  {
   "cell_type": "markdown",
   "id": "804fcdc9-b4fb-49ee-a515-686505c1dae8",
   "metadata": {},
   "source": [
    "### Question No. 4\n",
    "What is the difference between a function and a function call?"
   ]
  },
  {
   "cell_type": "markdown",
   "id": "c9b9c7ba-cb24-484d-9db3-cf84827078b8",
   "metadata": {},
   "source": [
    "### Answer No. 4\n",
    "A function is a block of code that can be used multiple times without writing that block again and again. Function call is invoking that block of code to run."
   ]
  },
  {
   "cell_type": "markdown",
   "id": "8491bca5-fec1-4872-98cb-eb0ca74d8f1e",
   "metadata": {},
   "source": [
    "### Question No. 5\n",
    "How many global scopes are there in a Python program? How many local scopes?"
   ]
  },
  {
   "cell_type": "markdown",
   "id": "d6611dc5-433a-4197-a8cd-12ef8231c4eb",
   "metadata": {},
   "source": [
    "### Answer No. 5\n",
    "Scope in Python defines the area of code where a name such as variable is defined. If a variable is defined in an area where it can be accessed from anywhere in the code then, tha area is a global scope and variables defined in that area are global variables. On the other hand, if a variable is defined in an area where it can only be accessed within that particular area such as within a function the, that area is known as local scope and variables defines there are local variables.<br>\n",
    "Now, global scope can be one which is the main program and local scope can be many. Each function or class is a local scope."
   ]
  },
  {
   "cell_type": "markdown",
   "id": "58cb8faf-c989-4665-956e-6871ee8ee6fe",
   "metadata": {},
   "source": [
    "### Question No. 6\n",
    "What happens to variables in a local scope when the function call returns?"
   ]
  },
  {
   "cell_type": "markdown",
   "id": "880d53f9-6ce7-4000-a769-4e0c3151195e",
   "metadata": {},
   "source": [
    "### Answer No. 6\n",
    "Variables in a function are accessed and used when a function is called. They cannot be used/accessed outside the function"
   ]
  },
  {
   "cell_type": "markdown",
   "id": "224b5f3a-2cfd-425c-b172-044b438ac7f8",
   "metadata": {},
   "source": [
    "### Question No. 7\n",
    "What is the concept of a return value? Is it possible to have a return value in an expression?"
   ]
  },
  {
   "cell_type": "markdown",
   "id": "009e85e5-5f6b-4eaa-bf7f-6722392590e3",
   "metadata": {},
   "source": [
    "### Answer No. 7\n",
    "A return statement is used to end the execution of the function call and “returns” the result (value of the expression following the return keyword) to the caller. The statements after the return statements are not executed."
   ]
  },
  {
   "cell_type": "markdown",
   "id": "892ccf56-7270-43db-9b51-3e9d8f5ccfce",
   "metadata": {},
   "source": [
    "### Question No. 8\n",
    "If a function does not have a return statement, what is the return value of a call to that function?"
   ]
  },
  {
   "cell_type": "markdown",
   "id": "debb6c5d-08af-49c2-ae71-b077a7948955",
   "metadata": {},
   "source": [
    "### Answer No. 8\n",
    "If a function does not have a retrurn statement or return value in a return statement then output of function will be None."
   ]
  },
  {
   "cell_type": "markdown",
   "id": "213145dd-7bb2-407e-a7b2-f9bf60f0199b",
   "metadata": {},
   "source": [
    "### Question No. 9\n",
    "How do you make a function variable refer to the global variable?"
   ]
  },
  {
   "cell_type": "markdown",
   "id": "0daf77f1-1b4a-4f18-9e72-a64979882164",
   "metadata": {},
   "source": [
    "### Answer No. 9\n",
    "A function variable can refer to the global variable by making global variable an argument of the function."
   ]
  },
  {
   "cell_type": "markdown",
   "id": "37827714-e6b4-40bb-9cdf-e5dceb97e286",
   "metadata": {},
   "source": [
    "### Question No. 10\n",
    "What is the data type of None?"
   ]
  },
  {
   "cell_type": "markdown",
   "id": "a924f076-a83e-4015-a853-3c845f43747d",
   "metadata": {},
   "source": [
    "### Answer No. 10\n",
    "The None keyword is used to define a null variable or an object. In Python, None keyword is an object, and it is a data type of the class NoneType."
   ]
  },
  {
   "cell_type": "markdown",
   "id": "43111fe2-5a0f-45a3-9297-9ac4c5cc24ab",
   "metadata": {},
   "source": [
    "### Question No. 11\n",
    "What does the sentence import areallyourpetsnamederic do?"
   ]
  },
  {
   "cell_type": "markdown",
   "id": "e409e4e5-9d09-4cb7-b691-dffdf1bcb16c",
   "metadata": {},
   "source": [
    "### Answer No. 11\n",
    "It would return error as no such module exists."
   ]
  },
  {
   "cell_type": "code",
   "execution_count": 1,
   "id": "b5ae2549-2473-4cda-9590-99ccecb24c5c",
   "metadata": {},
   "outputs": [
    {
     "ename": "ModuleNotFoundError",
     "evalue": "No module named 'areallyourpetsnamederic'",
     "output_type": "error",
     "traceback": [
      "\u001b[0;31m---------------------------------------------------------------------------\u001b[0m",
      "\u001b[0;31mModuleNotFoundError\u001b[0m                       Traceback (most recent call last)",
      "Cell \u001b[0;32mIn [1], line 1\u001b[0m\n\u001b[0;32m----> 1\u001b[0m \u001b[38;5;28;01mimport\u001b[39;00m \u001b[38;5;21;01mareallyourpetsnamederic\u001b[39;00m\n",
      "\u001b[0;31mModuleNotFoundError\u001b[0m: No module named 'areallyourpetsnamederic'"
     ]
    }
   ],
   "source": [
    "import areallyourpetsnamederic"
   ]
  },
  {
   "cell_type": "markdown",
   "id": "84c7bf08-5bdc-4fcc-9d8e-a7bd6c470429",
   "metadata": {},
   "source": [
    "### Question No. 12\n",
    "If you had a bacon() feature in a spam module, what would you call it after importing spam?"
   ]
  },
  {
   "cell_type": "markdown",
   "id": "764ea597-eace-4efb-95a5-4811e4b4e377",
   "metadata": {},
   "source": [
    "### Answer No. 12\n",
    "It can be called by spam.bacon()"
   ]
  },
  {
   "cell_type": "markdown",
   "id": "3a625129-754e-46ff-bb47-623d5e6592e9",
   "metadata": {},
   "source": [
    "### Question No. 13\n",
    "What can you do to save a programme from crashing if it encounters an error?"
   ]
  },
  {
   "cell_type": "markdown",
   "id": "3454c0f6-0dbd-4112-8c60-ca7c8bc77e12",
   "metadata": {},
   "source": [
    "### Answer No. 13\n",
    "try and except blocks can be used to avoid program throwing errors and terminating execution upon encountering runtime errors. Different except statements are available to handle each sort of runtime error."
   ]
  },
  {
   "cell_type": "markdown",
   "id": "f426bb42-8936-4d85-99b8-ff7e1e2cb133",
   "metadata": {},
   "source": [
    "### Question No. 14\n",
    "What is the purpose of the try clause? What is the purpose of the except clause?"
   ]
  },
  {
   "cell_type": "markdown",
   "id": "6343666b-6c4f-4c8e-9a05-82bc365ef864",
   "metadata": {},
   "source": [
    "### Answer No. 14\n",
    "Piece of code written under try clause is the one where we expect to have some runtime errors. Code written under except clause is the one that will be executed if the try code encounters a specific runtime error stated following except statement."
   ]
  }
 ],
 "metadata": {
  "kernelspec": {
   "display_name": "Python 3 (ipykernel)",
   "language": "python",
   "name": "python3"
  },
  "language_info": {
   "codemirror_mode": {
    "name": "ipython",
    "version": 3
   },
   "file_extension": ".py",
   "mimetype": "text/x-python",
   "name": "python",
   "nbconvert_exporter": "python",
   "pygments_lexer": "ipython3",
   "version": "3.10.6"
  }
 },
 "nbformat": 4,
 "nbformat_minor": 5
}
